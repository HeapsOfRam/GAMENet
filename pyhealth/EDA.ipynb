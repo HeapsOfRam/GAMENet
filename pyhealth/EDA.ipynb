{
 "cells": [
  {
   "cell_type": "code",
   "execution_count": 1,
   "id": "ef8a7ab9",
   "metadata": {},
   "outputs": [
    {
     "name": "stderr",
     "output_type": "stream",
     "text": [
      "/home/ram/code/school/dl4h/final/submit/GAMENet/pyhealth/.v2/lib/python3.8/site-packages/pyhealth/trainer.py:13: TqdmExperimentalWarning: Using `tqdm.autonotebook.tqdm` in notebook mode. Use `tqdm.tqdm` instead to force console mode (e.g. in jupyter console)\n",
      "  from tqdm.autonotebook import trange\n"
     ]
    }
   ],
   "source": [
    "import argparse\n",
    "import sys\n",
    "\n",
    "import pyhealth\n",
    "\n",
    "from pyhealth.datasets import MIMIC4Dataset, MIMIC3Dataset\n",
    "from pyhealth.tasks import drug_recommendation_mimic4_fn, drug_recommendation_mimic3_fn\n",
    "# import dataloader related functions\n",
    "from pyhealth.datasets.splitter import split_by_patient\n",
    "from pyhealth.datasets import split_by_patient, get_dataloader\n",
    "# import gamenet model\n",
    "from pyhealth.models import RETAIN, GAMENet\n",
    "# import trainer\n",
    "from pyhealth.trainer import Trainer\n"
   ]
  },
  {
   "cell_type": "code",
   "execution_count": 2,
   "id": "5917b32b",
   "metadata": {},
   "outputs": [],
   "source": [
    "from gamenet import *\n",
    "from drug_rec_task import drug_recommendation_mimic4_no_hist"
   ]
  },
  {
   "cell_type": "code",
   "execution_count": 3,
   "id": "c91d8b08",
   "metadata": {},
   "outputs": [
    {
     "name": "stdout",
     "output_type": "stream",
     "text": [
      "reading mimic4 data...\n",
      "stat\n",
      "\n",
      "Statistics of base dataset (dev=False):\n",
      "\t- Dataset: MIMIC4Dataset\n",
      "\t- Number of patients: 180733\n",
      "\t- Number of visits: 431231\n",
      "\t- Number of visits per patient: 2.3860\n",
      "\t- Number of events per visit in diagnoses_icd: 11.0296\n",
      "\t- Number of events per visit in procedures_icd: 1.5518\n",
      "\t- Number of events per visit in prescriptions: 54.2354\n",
      "\n",
      "info\n",
      "\n",
      "dataset.patients: patient_id -> <Patient>\n",
      "\n",
      "<Patient>\n",
      "    - visits: visit_id -> <Visit> \n",
      "    - other patient-level info\n",
      "    \n",
      "    <Visit>\n",
      "        - event_list_dict: table_name -> List[Event]\n",
      "        - other visit-level info\n",
      "    \n",
      "        <Event>\n",
      "            - code: str\n",
      "            - other event-level info\n",
      "\n"
     ]
    }
   ],
   "source": [
    "#data = prepare_drug_task_data(MIMIC4)\n",
    "mimic_data = load_mimic_data(MIMIC4)"
   ]
  },
  {
   "cell_type": "code",
   "execution_count": 4,
   "id": "6a8b142c",
   "metadata": {},
   "outputs": [
    {
     "name": "stdout",
     "output_type": "stream",
     "text": [
      "drug task prepare\n"
     ]
    },
    {
     "name": "stderr",
     "output_type": "stream",
     "text": [
      "Generating samples for drug_recommendation_mimic4_fn: 100%|███████████████████████████████████| 180733/180733 [01:01<00:00, 2925.25it/s]\n"
     ]
    },
    {
     "name": "stdout",
     "output_type": "stream",
     "text": [
      "{'visit_id': '22595853', 'patient_id': '10000032', 'conditions': [['5723', '78959', '5715', '07070', '496', '29680', '30981', 'V1582']], 'procedures': [['5491']], 'drugs': ['B01A', 'J07B', 'A12B', 'C03D', 'C03C', 'N02B', 'J05A', 'R03A', 'N07B', 'R03B'], 'drugs_all': [['B01A', 'J07B', 'A12B', 'C03D', 'C03C', 'N02B', 'J05A', 'R03A', 'N07B', 'R03B']]}\n"
     ]
    }
   ],
   "source": [
    "data = prepare_drug_task_data(mimic_data, MIMIC4)"
   ]
  },
  {
   "cell_type": "code",
   "execution_count": 5,
   "id": "ddb3212c",
   "metadata": {},
   "outputs": [
    {
     "ename": "ImportError",
     "evalue": "cannot import name 'drug_recommendation_mimic4_no_hist' from 'drug_rec_task' (/home/ram/code/school/dl4h/final/submit/GAMENet/pyhealth/drug_rec_task.py)",
     "output_type": "error",
     "traceback": [
      "\u001b[0;31m---------------------------------------------------------------------------\u001b[0m",
      "\u001b[0;31mImportError\u001b[0m                               Traceback (most recent call last)",
      "Cell \u001b[0;32mIn[5], line 1\u001b[0m\n\u001b[0;32m----> 1\u001b[0m \u001b[38;5;28;01mfrom\u001b[39;00m \u001b[38;5;21;01mdrug_rec_task\u001b[39;00m \u001b[38;5;28;01mimport\u001b[39;00m drug_recommendation_mimic4_no_hist\n",
      "\u001b[0;31mImportError\u001b[0m: cannot import name 'drug_recommendation_mimic4_no_hist' from 'drug_rec_task' (/home/ram/code/school/dl4h/final/submit/GAMENet/pyhealth/drug_rec_task.py)"
     ]
    }
   ],
   "source": [
    "nh_data = "
   ]
  },
  {
   "cell_type": "code",
   "execution_count": null,
   "id": "6801925c",
   "metadata": {},
   "outputs": [],
   "source": []
  }
 ],
 "metadata": {
  "kernelspec": {
   "display_name": "Python 3 (ipykernel)",
   "language": "python",
   "name": "python3"
  },
  "language_info": {
   "codemirror_mode": {
    "name": "ipython",
    "version": 3
   },
   "file_extension": ".py",
   "mimetype": "text/x-python",
   "name": "python",
   "nbconvert_exporter": "python",
   "pygments_lexer": "ipython3",
   "version": "3.8.16"
  }
 },
 "nbformat": 4,
 "nbformat_minor": 5
}
