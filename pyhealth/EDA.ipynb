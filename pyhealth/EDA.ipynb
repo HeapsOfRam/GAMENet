{
 "cells": [
  {
   "cell_type": "markdown",
   "id": "3d9e0264",
   "metadata": {},
   "source": [
    "# PyHealth GAMENet Reproduction Study"
   ]
  },
  {
   "cell_type": "markdown",
   "id": "6d6d7ffc",
   "metadata": {},
   "source": [
    "## Imports\n",
    "\n",
    "First, import python libraries, pyhealth, and related pyhealth libraries"
   ]
  },
  {
   "cell_type": "code",
   "execution_count": 1,
   "id": "ef8a7ab9",
   "metadata": {},
   "outputs": [
    {
     "name": "stderr",
     "output_type": "stream",
     "text": [
      "/home/ram/code/school/dl4h/final/submit/GAMENet/pyhealth/.v2/lib/python3.8/site-packages/pyhealth/trainer.py:13: TqdmExperimentalWarning: Using `tqdm.autonotebook.tqdm` in notebook mode. Use `tqdm.tqdm` instead to force console mode (e.g. in jupyter console)\n",
      "  from tqdm.autonotebook import trange\n"
     ]
    }
   ],
   "source": [
    "import argparse\n",
    "import sys\n",
    "import pandas\n",
    "import json\n",
    "\n",
    "import pyhealth\n",
    "\n",
    "from pyhealth.datasets import MIMIC4Dataset, MIMIC3Dataset\n",
    "from pyhealth.tasks import drug_recommendation_mimic4_fn, drug_recommendation_mimic3_fn\n",
    "# import dataloader related functions\n",
    "from pyhealth.datasets.splitter import split_by_patient\n",
    "from pyhealth.datasets import split_by_patient, get_dataloader\n",
    "# import gamenet model\n",
    "from pyhealth.models import RETAIN, GAMENet\n",
    "# import trainer\n",
    "from pyhealth.trainer import Trainer\n"
   ]
  },
  {
   "cell_type": "markdown",
   "id": "dcbcbfe5",
   "metadata": {},
   "source": [
    "Next, import our custom libraries we've designed for this study"
   ]
  },
  {
   "cell_type": "code",
   "execution_count": 2,
   "id": "5917b32b",
   "metadata": {},
   "outputs": [],
   "source": [
    "from drug_rec_task import drug_recommendation_mimic4_no_hist, drug_recommendation_mimic4_no_proc\n",
    "from model import ModelWrapper\n",
    "from alt_gamenets import GAMENetNoHist, GAMENetNoProc\n",
    "from mimic import MIMIC4, MIMICWrapper\n",
    "\n",
    "# import our constants\n",
    "from constants import (\n",
    "    DEV,\n",
    "    EPOCHS, LR, DECAY_WEIGHT,\n",
    "    DRUG_REC_TN, ALL_TASKS,\n",
    "    GN_KEY, RT_KEY,\n",
    "    MODEL_TYPES_PER_TASK, RETAIN_FEATS_PER_TASK,\n",
    "    GAMENET_EXP, RETAIN_EXP,\n",
    "    SCORE_KEY, DPV_KEY, DDI_RATE_KEY,\n",
    "    BASE_DDI_RATE\n",
    ")"
   ]
  },
  {
   "cell_type": "markdown",
   "id": "60b1257c",
   "metadata": {},
   "source": [
    "## Load Data\n",
    "\n",
    "We use the `MIMIC4` data class from the `mimic` import.\n",
    "Another option would be to import the `MIMIC3` data class and use that as the `dataset` below.\n",
    "For this purpose, we just use `MIMIC4` and use that to load the data and prepare it with the appropriate tasks.\n",
    "\n",
    "The data class (either `MIMIC4` or `MIMIC3` decides where the data root is.\n",
    "By default, it reads in data from `./hiddendata/extracted/{mimic3/4}/`.\n",
    "So, for MIMIC4 data the data would need to be in: `./hiddendata/extracted/mimic4/`.\n",
    "This can be changed by either modifying the MIMIC4 class directly, or modifying the data root default in the `constants` file."
   ]
  },
  {
   "cell_type": "code",
   "execution_count": 3,
   "id": "a1de17e2",
   "metadata": {},
   "outputs": [],
   "source": [
    "# whether to read in \"dev\" mode or not\n",
    "DEV = False"
   ]
  },
  {
   "cell_type": "code",
   "execution_count": 4,
   "id": "6a8b142c",
   "metadata": {},
   "outputs": [
    {
     "name": "stdout",
     "output_type": "stream",
     "text": [
      "reading mimic4 data...\n",
      "---DATA STATS FOR mimic4 DATA---\n",
      "stat\n",
      "\n",
      "Statistics of base dataset (dev=False):\n",
      "\t- Dataset: MIMIC4Dataset\n",
      "\t- Number of patients: 180733\n",
      "\t- Number of visits: 431231\n",
      "\t- Number of visits per patient: 2.3860\n",
      "\t- Number of events per visit in diagnoses_icd: 11.0296\n",
      "\t- Number of events per visit in procedures_icd: 1.5518\n",
      "\t- Number of events per visit in prescriptions: 54.2354\n",
      "\n",
      "info\n",
      "\n",
      "dataset.patients: patient_id -> <Patient>\n",
      "\n",
      "<Patient>\n",
      "    - visits: visit_id -> <Visit> \n",
      "    - other patient-level info\n",
      "    \n",
      "    <Visit>\n",
      "        - event_list_dict: table_name -> List[Event]\n",
      "        - other visit-level info\n",
      "    \n",
      "        <Event>\n",
      "            - code: str\n",
      "            - other event-level info\n",
      "\n",
      "***run task: drug_recommendation\n"
     ]
    },
    {
     "name": "stderr",
     "output_type": "stream",
     "text": [
      "Generating samples for drug_recommendation_mimic4_fn: 100%|███████████| 180733/180733 [00:36<00:00, 4890.30it/s]\n"
     ]
    },
    {
     "name": "stdout",
     "output_type": "stream",
     "text": [
      "{'visit_id': '22595853', 'patient_id': '10000032', 'conditions': [['5723', '78959', '5715', '07070', '496', '29680', '30981', 'V1582']], 'procedures': [['5491']], 'drugs': ['B01A', 'J07B', 'A12B', 'C03D', 'C03C', 'N02B', 'J05A', 'R03A', 'N07B', 'R03B'], 'drugs_all': [['B01A', 'J07B', 'A12B', 'C03D', 'C03C', 'N02B', 'J05A', 'R03A', 'N07B', 'R03B']]}\n",
      "***run task: no_hist\n"
     ]
    },
    {
     "name": "stderr",
     "output_type": "stream",
     "text": [
      "Generating samples for drug_recommendation_mimic4_no_hist: 100%|██████| 180733/180733 [00:39<00:00, 4550.12it/s]\n"
     ]
    },
    {
     "name": "stdout",
     "output_type": "stream",
     "text": [
      "{'visit_id': '22595853', 'patient_id': '10000032', 'conditions': [['5723', '78959', '5715', '07070', '496', '29680', '30981', 'V1582']], 'procedures': [['5491']], 'drugs': ['B01A', 'J07B', 'A12B', 'C03D', 'C03C', 'N02B', 'J05A', 'R03A', 'N07B', 'R03B'], 'drugs_all': [['B01A', 'J07B', 'A12B', 'C03D', 'C03C', 'N02B', 'J05A', 'R03A', 'N07B', 'R03B']]}\n",
      "***run task: no_proc\n"
     ]
    },
    {
     "name": "stderr",
     "output_type": "stream",
     "text": [
      "Generating samples for drug_recommendation_mimic4_no_proc: 100%|██████| 180733/180733 [00:45<00:00, 3955.30it/s]\n"
     ]
    },
    {
     "name": "stdout",
     "output_type": "stream",
     "text": [
      "{'visit_id': '22595853', 'patient_id': '10000032', 'conditions': [['5723', '78959', '5715', '07070', '496', '29680', '30981', 'V1582']], 'drugs': ['B01A', 'J07B', 'A12B', 'C03D', 'C03C', 'N02B', 'J05A', 'R03A', 'N07B', 'R03B'], 'drugs_all': [['B01A', 'J07B', 'A12B', 'C03D', 'C03C', 'N02B', 'J05A', 'R03A', 'N07B', 'R03B']]}\n"
     ]
    }
   ],
   "source": [
    "# save data in the ./hiddendata/extracted/ directory\n",
    "## this uses MIMIC4, so place data in ./hiddendata/extracted/mimic4/\n",
    "## could use MIMIC3 with from mimic import MIMIC3 and placing data in ./hiddendata/extracted/mimic3/\n",
    "dataset = MIMIC4\n",
    "mimic = MIMICWrapper(datasource=dataset, tasks=dataset.all_tasks())\n",
    "mimic_data = mimic.load_data(dev=DEV)\n",
    "drug_task_data = mimic.drug_task_data()\n",
    "dataloaders = mimic.create_dataloaders()"
   ]
  },
  {
   "cell_type": "code",
   "execution_count": 5,
   "id": "ddb3212c",
   "metadata": {},
   "outputs": [
    {
     "data": {
      "text/plain": [
       "{'drug_recommendation': <pyhealth.datasets.sample_dataset.SampleDataset at 0x7f969fa65f10>,\n",
       " 'no_hist': <pyhealth.datasets.sample_dataset.SampleDataset at 0x7f96698b7e80>,\n",
       " 'no_proc': <pyhealth.datasets.sample_dataset.SampleDataset at 0x7f966875ce50>}"
      ]
     },
     "execution_count": 5,
     "metadata": {},
     "output_type": "execute_result"
    }
   ],
   "source": [
    "drug_task_data"
   ]
  },
  {
   "cell_type": "markdown",
   "id": "e0cb6c14",
   "metadata": {},
   "source": [
    "## Create DDI Matrices\n",
    "\n",
    "In order to calculate DDI Rate, we need to create the DDI matrices.\n",
    "GAMENet models have this built-in, but RETAIN does not.\n",
    "So, we craft our DDI matrices ahead of time to help us calculate the rate later."
   ]
  },
  {
   "cell_type": "code",
   "execution_count": 6,
   "id": "e5bbc37e",
   "metadata": {},
   "outputs": [],
   "source": [
    "ddi_mats = {}\n",
    "\n",
    "for taskname in mimic.get_task_names():\n",
    "    model_type = MODEL_TYPES_PER_TASK[taskname][GN_KEY]\n",
    "    ddi_mats[taskname] = model_type(drug_task_data[taskname]).generate_ddi_adj()"
   ]
  },
  {
   "cell_type": "markdown",
   "id": "d169a3d9",
   "metadata": {},
   "source": [
    "## Train the Models"
   ]
  },
  {
   "cell_type": "code",
   "execution_count": 7,
   "id": "f493d436",
   "metadata": {},
   "outputs": [],
   "source": [
    "retain = {}\n",
    "gamenet = {}"
   ]
  },
  {
   "cell_type": "code",
   "execution_count": 8,
   "id": "6801925c",
   "metadata": {},
   "outputs": [
    {
     "name": "stdout",
     "output_type": "stream",
     "text": [
      "---RETAIN TRAINING---\n",
      "--training retain on drug_recommendation data--\n",
      "making retain model\n"
     ]
    },
    {
     "name": "stderr",
     "output_type": "stream",
     "text": [
      "RETAIN(\n",
      "  (embeddings): ModuleDict(\n",
      "    (conditions): Embedding(19186, 128, padding_idx=0)\n",
      "    (procedures): Embedding(10605, 128, padding_idx=0)\n",
      "  )\n",
      "  (linear_layers): ModuleDict()\n",
      "  (retain): ModuleDict(\n",
      "    (conditions): RETAINLayer(\n",
      "      (dropout_layer): Dropout(p=0.5, inplace=False)\n",
      "      (alpha_gru): GRU(128, 128, batch_first=True)\n",
      "      (beta_gru): GRU(128, 128, batch_first=True)\n",
      "      (alpha_li): Linear(in_features=128, out_features=1, bias=True)\n",
      "      (beta_li): Linear(in_features=128, out_features=128, bias=True)\n",
      "    )\n",
      "    (procedures): RETAINLayer(\n",
      "      (dropout_layer): Dropout(p=0.5, inplace=False)\n",
      "      (alpha_gru): GRU(128, 128, batch_first=True)\n",
      "      (beta_gru): GRU(128, 128, batch_first=True)\n",
      "      (alpha_li): Linear(in_features=128, out_features=1, bias=True)\n",
      "      (beta_li): Linear(in_features=128, out_features=128, bias=True)\n",
      "    )\n",
      "  )\n",
      "  (fc): Linear(in_features=256, out_features=200, bias=True)\n",
      ")\n",
      "Metrics: ['jaccard_samples', 'accuracy', 'hamming_loss', 'precision_samples', 'recall_samples', 'pr_auc_samples', 'f1_samples']\n",
      "Device: cuda\n",
      "\n",
      "Training:\n",
      "Batch size: 64\n",
      "Optimizer: <class 'torch.optim.adam.Adam'>\n",
      "Optimizer params: {'lr': 0.001}\n",
      "Weight decay: 1e-05\n",
      "Max grad norm: None\n",
      "Val dataloader: <torch.utils.data.dataloader.DataLoader object at 0x7f966046e280>\n",
      "Monitor: accuracy\n",
      "Monitor criterion: max\n",
      "Epochs: 20\n",
      "\n"
     ]
    },
    {
     "data": {
      "application/vnd.jupyter.widget-view+json": {
       "model_id": "19bfd84862734b95b2f559f99906e35b",
       "version_major": 2,
       "version_minor": 0
      },
      "text/plain": [
       "Epoch 0 / 20:   0%|          | 0/1842 [00:00<?, ?it/s]"
      ]
     },
     "metadata": {},
     "output_type": "display_data"
    },
    {
     "name": "stderr",
     "output_type": "stream",
     "text": [
      "--- Train epoch-0, step-1842 ---\n",
      "loss: 0.2492\n",
      "Evaluation: 100%|█████████████████████████████████████████████████████████████| 233/233 [00:04<00:00, 56.13it/s]\n",
      "/home/ram/code/school/dl4h/final/submit/GAMENet/pyhealth/.v2/lib/python3.8/site-packages/sklearn/metrics/_classification.py:1344: UndefinedMetricWarning: Precision is ill-defined and being set to 0.0 in samples with no predicted labels. Use `zero_division` parameter to control this behavior.\n",
      "  _warn_prf(average, modifier, msg_start, len(result))\n",
      "--- Eval epoch-0, step-1842 ---\n",
      "jaccard_samples: 0.4020\n",
      "accuracy: 0.0017\n",
      "hamming_loss: 0.0865\n",
      "precision_samples: 0.7345\n",
      "recall_samples: 0.4885\n",
      "pr_auc_samples: 0.7072\n",
      "f1_samples: 0.5540\n",
      "loss: 0.2183\n",
      "New best accuracy score (0.0017) at epoch-0, step-1842\n",
      "\n"
     ]
    },
    {
     "data": {
      "application/vnd.jupyter.widget-view+json": {
       "model_id": "67777897a5cc4a0ab16acab8302430fd",
       "version_major": 2,
       "version_minor": 0
      },
      "text/plain": [
       "Epoch 1 / 20:   0%|          | 0/1842 [00:00<?, ?it/s]"
      ]
     },
     "metadata": {},
     "output_type": "display_data"
    },
    {
     "name": "stderr",
     "output_type": "stream",
     "text": [
      "--- Train epoch-1, step-3684 ---\n",
      "loss: 0.2130\n",
      "Evaluation: 100%|█████████████████████████████████████████████████████████████| 233/233 [00:04<00:00, 56.45it/s]\n",
      "--- Eval epoch-1, step-3684 ---\n",
      "jaccard_samples: 0.4207\n",
      "accuracy: 0.0020\n",
      "hamming_loss: 0.0824\n",
      "precision_samples: 0.7548\n",
      "recall_samples: 0.5013\n",
      "pr_auc_samples: 0.7268\n",
      "f1_samples: 0.5729\n",
      "loss: 0.2046\n",
      "New best accuracy score (0.0020) at epoch-1, step-3684\n",
      "\n"
     ]
    },
    {
     "data": {
      "application/vnd.jupyter.widget-view+json": {
       "model_id": "21cb6b3f234a49aea629c9eda7f05dd9",
       "version_major": 2,
       "version_minor": 0
      },
      "text/plain": [
       "Epoch 2 / 20:   0%|          | 0/1842 [00:00<?, ?it/s]"
      ]
     },
     "metadata": {},
     "output_type": "display_data"
    },
    {
     "name": "stderr",
     "output_type": "stream",
     "text": [
      "--- Train epoch-2, step-5526 ---\n",
      "loss: 0.2041\n",
      "Evaluation: 100%|█████████████████████████████████████████████████████████████| 233/233 [00:04<00:00, 57.24it/s]\n",
      "--- Eval epoch-2, step-5526 ---\n",
      "jaccard_samples: 0.4341\n",
      "accuracy: 0.0018\n",
      "hamming_loss: 0.0807\n",
      "precision_samples: 0.7574\n",
      "recall_samples: 0.5188\n",
      "pr_auc_samples: 0.7376\n",
      "f1_samples: 0.5860\n",
      "loss: 0.1987\n",
      "\n"
     ]
    },
    {
     "data": {
      "application/vnd.jupyter.widget-view+json": {
       "model_id": "3005f09bbdfb45589065456000056123",
       "version_major": 2,
       "version_minor": 0
      },
      "text/plain": [
       "Epoch 3 / 20:   0%|          | 0/1842 [00:00<?, ?it/s]"
      ]
     },
     "metadata": {},
     "output_type": "display_data"
    },
    {
     "name": "stderr",
     "output_type": "stream",
     "text": [
      "--- Train epoch-3, step-7368 ---\n",
      "loss: 0.1992\n",
      "Evaluation: 100%|█████████████████████████████████████████████████████████████| 233/233 [00:04<00:00, 55.96it/s]\n",
      "--- Eval epoch-3, step-7368 ---\n",
      "jaccard_samples: 0.4382\n",
      "accuracy: 0.0017\n",
      "hamming_loss: 0.0796\n",
      "precision_samples: 0.7657\n",
      "recall_samples: 0.5192\n",
      "pr_auc_samples: 0.7434\n",
      "f1_samples: 0.5903\n",
      "loss: 0.1956\n",
      "\n"
     ]
    },
    {
     "data": {
      "application/vnd.jupyter.widget-view+json": {
       "model_id": "c2684d0200dd4816a5add0ee409c582f",
       "version_major": 2,
       "version_minor": 0
      },
      "text/plain": [
       "Epoch 4 / 20:   0%|          | 0/1842 [00:00<?, ?it/s]"
      ]
     },
     "metadata": {},
     "output_type": "display_data"
    },
    {
     "name": "stderr",
     "output_type": "stream",
     "text": [
      "--- Train epoch-4, step-9210 ---\n",
      "loss: 0.1960\n",
      "Evaluation: 100%|█████████████████████████████████████████████████████████████| 233/233 [00:04<00:00, 56.71it/s]\n",
      "--- Eval epoch-4, step-9210 ---\n",
      "jaccard_samples: 0.4439\n",
      "accuracy: 0.0017\n",
      "hamming_loss: 0.0792\n",
      "precision_samples: 0.7621\n",
      "recall_samples: 0.5293\n",
      "pr_auc_samples: 0.7469\n",
      "f1_samples: 0.5956\n",
      "loss: 0.1936\n",
      "\n"
     ]
    },
    {
     "data": {
      "application/vnd.jupyter.widget-view+json": {
       "model_id": "f43d8040181d493ba9cd36755336bb7b",
       "version_major": 2,
       "version_minor": 0
      },
      "text/plain": [
       "Epoch 5 / 20:   0%|          | 0/1842 [00:00<?, ?it/s]"
      ]
     },
     "metadata": {},
     "output_type": "display_data"
    },
    {
     "name": "stderr",
     "output_type": "stream",
     "text": [
      "--- Train epoch-5, step-11052 ---\n",
      "loss: 0.1938\n",
      "Evaluation: 100%|█████████████████████████████████████████████████████████████| 233/233 [00:04<00:00, 55.85it/s]\n",
      "--- Eval epoch-5, step-11052 ---\n",
      "jaccard_samples: 0.4485\n",
      "accuracy: 0.0017\n",
      "hamming_loss: 0.0787\n",
      "precision_samples: 0.7638\n",
      "recall_samples: 0.5348\n",
      "pr_auc_samples: 0.7507\n",
      "f1_samples: 0.6003\n",
      "loss: 0.1922\n",
      "\n"
     ]
    },
    {
     "data": {
      "application/vnd.jupyter.widget-view+json": {
       "model_id": "db6c15c253034a2088372f4f3d0ba727",
       "version_major": 2,
       "version_minor": 0
      },
      "text/plain": [
       "Epoch 6 / 20:   0%|          | 0/1842 [00:00<?, ?it/s]"
      ]
     },
     "metadata": {},
     "output_type": "display_data"
    },
    {
     "name": "stderr",
     "output_type": "stream",
     "text": [
      "--- Train epoch-6, step-12894 ---\n",
      "loss: 0.1922\n",
      "Evaluation: 100%|█████████████████████████████████████████████████████████████| 233/233 [00:04<00:00, 56.35it/s]\n",
      "--- Eval epoch-6, step-12894 ---\n",
      "jaccard_samples: 0.4457\n",
      "accuracy: 0.0020\n",
      "hamming_loss: 0.0784\n",
      "precision_samples: 0.7710\n",
      "recall_samples: 0.5266\n",
      "pr_auc_samples: 0.7513\n",
      "f1_samples: 0.5973\n",
      "loss: 0.1915\n",
      "\n"
     ]
    },
    {
     "data": {
      "application/vnd.jupyter.widget-view+json": {
       "model_id": "8bc99ecec56c461da6ef50ce6edbc5ee",
       "version_major": 2,
       "version_minor": 0
      },
      "text/plain": [
       "Epoch 7 / 20:   0%|          | 0/1842 [00:00<?, ?it/s]"
      ]
     },
     "metadata": {},
     "output_type": "display_data"
    },
    {
     "name": "stderr",
     "output_type": "stream",
     "text": [
      "--- Train epoch-7, step-14736 ---\n",
      "loss: 0.1910\n",
      "Evaluation: 100%|█████████████████████████████████████████████████████████████| 233/233 [00:04<00:00, 56.41it/s]\n",
      "--- Eval epoch-7, step-14736 ---\n",
      "jaccard_samples: 0.4406\n",
      "accuracy: 0.0020\n",
      "hamming_loss: 0.0786\n",
      "precision_samples: 0.7793\n",
      "recall_samples: 0.5152\n",
      "pr_auc_samples: 0.7518\n",
      "f1_samples: 0.5924\n",
      "loss: 0.1918\n",
      "New best accuracy score (0.0020) at epoch-7, step-14736\n",
      "\n"
     ]
    },
    {
     "data": {
      "application/vnd.jupyter.widget-view+json": {
       "model_id": "d62db84dcf2447dfb7db5147dd3ced2e",
       "version_major": 2,
       "version_minor": 0
      },
      "text/plain": [
       "Epoch 8 / 20:   0%|          | 0/1842 [00:00<?, ?it/s]"
      ]
     },
     "metadata": {},
     "output_type": "display_data"
    },
    {
     "name": "stderr",
     "output_type": "stream",
     "text": [
      "--- Train epoch-8, step-16578 ---\n",
      "loss: 0.1901\n",
      "Evaluation: 100%|█████████████████████████████████████████████████████████████| 233/233 [00:04<00:00, 56.48it/s]\n",
      "--- Eval epoch-8, step-16578 ---\n",
      "jaccard_samples: 0.4432\n",
      "accuracy: 0.0020\n",
      "hamming_loss: 0.0785\n",
      "precision_samples: 0.7776\n",
      "recall_samples: 0.5194\n",
      "pr_auc_samples: 0.7529\n",
      "f1_samples: 0.5953\n",
      "loss: 0.1910\n",
      "\n"
     ]
    },
    {
     "data": {
      "application/vnd.jupyter.widget-view+json": {
       "model_id": "f09ae9180fab48809b8869d482a19d14",
       "version_major": 2,
       "version_minor": 0
      },
      "text/plain": [
       "Epoch 9 / 20:   0%|          | 0/1842 [00:00<?, ?it/s]"
      ]
     },
     "metadata": {},
     "output_type": "display_data"
    },
    {
     "name": "stderr",
     "output_type": "stream",
     "text": [
      "--- Train epoch-9, step-18420 ---\n",
      "loss: 0.1893\n",
      "Evaluation: 100%|█████████████████████████████████████████████████████████████| 233/233 [00:04<00:00, 56.62it/s]\n",
      "--- Eval epoch-9, step-18420 ---\n",
      "jaccard_samples: 0.4476\n",
      "accuracy: 0.0022\n",
      "hamming_loss: 0.0784\n",
      "precision_samples: 0.7707\n",
      "recall_samples: 0.5297\n",
      "pr_auc_samples: 0.7535\n",
      "f1_samples: 0.5991\n",
      "loss: 0.1907\n",
      "New best accuracy score (0.0022) at epoch-9, step-18420\n",
      "\n"
     ]
    },
    {
     "data": {
      "application/vnd.jupyter.widget-view+json": {
       "model_id": "45b72f4a80764ba78769a67d56b0af14",
       "version_major": 2,
       "version_minor": 0
      },
      "text/plain": [
       "Epoch 10 / 20:   0%|          | 0/1842 [00:00<?, ?it/s]"
      ]
     },
     "metadata": {},
     "output_type": "display_data"
    },
    {
     "name": "stderr",
     "output_type": "stream",
     "text": [
      "--- Train epoch-10, step-20262 ---\n",
      "loss: 0.1885\n",
      "Evaluation: 100%|█████████████████████████████████████████████████████████████| 233/233 [00:04<00:00, 56.61it/s]\n",
      "--- Eval epoch-10, step-20262 ---\n",
      "jaccard_samples: 0.4528\n",
      "accuracy: 0.0022\n",
      "hamming_loss: 0.0782\n",
      "precision_samples: 0.7628\n",
      "recall_samples: 0.5409\n",
      "pr_auc_samples: 0.7533\n",
      "f1_samples: 0.6045\n",
      "loss: 0.1905\n",
      "\n"
     ]
    },
    {
     "data": {
      "application/vnd.jupyter.widget-view+json": {
       "model_id": "c969ce5be2284d7bb8516ce35ef4d532",
       "version_major": 2,
       "version_minor": 0
      },
      "text/plain": [
       "Epoch 11 / 20:   0%|          | 0/1842 [00:00<?, ?it/s]"
      ]
     },
     "metadata": {},
     "output_type": "display_data"
    },
    {
     "name": "stderr",
     "output_type": "stream",
     "text": [
      "--- Train epoch-11, step-22104 ---\n",
      "loss: 0.1879\n",
      "Evaluation: 100%|█████████████████████████████████████████████████████████████| 233/233 [00:04<00:00, 56.89it/s]\n",
      "--- Eval epoch-11, step-22104 ---\n",
      "jaccard_samples: 0.4463\n",
      "accuracy: 0.0022\n",
      "hamming_loss: 0.0785\n",
      "precision_samples: 0.7730\n",
      "recall_samples: 0.5267\n",
      "pr_auc_samples: 0.7536\n",
      "f1_samples: 0.5978\n",
      "loss: 0.1906\n",
      "\n"
     ]
    },
    {
     "data": {
      "application/vnd.jupyter.widget-view+json": {
       "model_id": "d67112938eaa42b69ed1ce988486b677",
       "version_major": 2,
       "version_minor": 0
      },
      "text/plain": [
       "Epoch 12 / 20:   0%|          | 0/1842 [00:00<?, ?it/s]"
      ]
     },
     "metadata": {},
     "output_type": "display_data"
    },
    {
     "name": "stderr",
     "output_type": "stream",
     "text": [
      "--- Train epoch-12, step-23946 ---\n",
      "loss: 0.1872\n",
      "Evaluation: 100%|█████████████████████████████████████████████████████████████| 233/233 [00:04<00:00, 57.19it/s]\n",
      "--- Eval epoch-12, step-23946 ---\n",
      "jaccard_samples: 0.4527\n",
      "accuracy: 0.0024\n",
      "hamming_loss: 0.0786\n",
      "precision_samples: 0.7611\n",
      "recall_samples: 0.5427\n",
      "pr_auc_samples: 0.7528\n",
      "f1_samples: 0.6040\n",
      "loss: 0.1906\n",
      "New best accuracy score (0.0024) at epoch-12, step-23946\n",
      "\n"
     ]
    },
    {
     "data": {
      "application/vnd.jupyter.widget-view+json": {
       "model_id": "900f45fbf4b64e8e9b0d45f84f526abe",
       "version_major": 2,
       "version_minor": 0
      },
      "text/plain": [
       "Epoch 13 / 20:   0%|          | 0/1842 [00:00<?, ?it/s]"
      ]
     },
     "metadata": {},
     "output_type": "display_data"
    },
    {
     "name": "stderr",
     "output_type": "stream",
     "text": [
      "--- Train epoch-13, step-25788 ---\n",
      "loss: 0.1866\n",
      "Evaluation: 100%|█████████████████████████████████████████████████████████████| 233/233 [00:04<00:00, 56.17it/s]\n",
      "--- Eval epoch-13, step-25788 ---\n",
      "jaccard_samples: 0.4487\n",
      "accuracy: 0.0018\n",
      "hamming_loss: 0.0787\n",
      "precision_samples: 0.7686\n",
      "recall_samples: 0.5333\n",
      "pr_auc_samples: 0.7537\n",
      "f1_samples: 0.6002\n",
      "loss: 0.1908\n",
      "\n"
     ]
    },
    {
     "data": {
      "application/vnd.jupyter.widget-view+json": {
       "model_id": "a5889fc0772e4b9180a3047415e57b83",
       "version_major": 2,
       "version_minor": 0
      },
      "text/plain": [
       "Epoch 14 / 20:   0%|          | 0/1842 [00:00<?, ?it/s]"
      ]
     },
     "metadata": {},
     "output_type": "display_data"
    },
    {
     "name": "stderr",
     "output_type": "stream",
     "text": [
      "--- Train epoch-14, step-27630 ---\n",
      "loss: 0.1861\n",
      "Evaluation: 100%|█████████████████████████████████████████████████████████████| 233/233 [00:04<00:00, 56.81it/s]\n",
      "--- Eval epoch-14, step-27630 ---\n",
      "jaccard_samples: 0.4457\n",
      "accuracy: 0.0018\n",
      "hamming_loss: 0.0787\n",
      "precision_samples: 0.7722\n",
      "recall_samples: 0.5268\n",
      "pr_auc_samples: 0.7534\n",
      "f1_samples: 0.5975\n",
      "loss: 0.1909\n",
      "\n"
     ]
    },
    {
     "data": {
      "application/vnd.jupyter.widget-view+json": {
       "model_id": "05f69844826b4910b90f77b84382a430",
       "version_major": 2,
       "version_minor": 0
      },
      "text/plain": [
       "Epoch 15 / 20:   0%|          | 0/1842 [00:00<?, ?it/s]"
      ]
     },
     "metadata": {},
     "output_type": "display_data"
    },
    {
     "name": "stderr",
     "output_type": "stream",
     "text": [
      "--- Train epoch-15, step-29472 ---\n",
      "loss: 0.1856\n",
      "Evaluation: 100%|█████████████████████████████████████████████████████████████| 233/233 [00:04<00:00, 56.57it/s]\n",
      "--- Eval epoch-15, step-29472 ---\n",
      "jaccard_samples: 0.4443\n",
      "accuracy: 0.0019\n",
      "hamming_loss: 0.0787\n",
      "precision_samples: 0.7760\n",
      "recall_samples: 0.5218\n",
      "pr_auc_samples: 0.7539\n",
      "f1_samples: 0.5963\n",
      "loss: 0.1912\n",
      "\n"
     ]
    },
    {
     "data": {
      "application/vnd.jupyter.widget-view+json": {
       "model_id": "5a19c63319d147a2a40f0c3526f257a1",
       "version_major": 2,
       "version_minor": 0
      },
      "text/plain": [
       "Epoch 16 / 20:   0%|          | 0/1842 [00:00<?, ?it/s]"
      ]
     },
     "metadata": {},
     "output_type": "display_data"
    },
    {
     "name": "stderr",
     "output_type": "stream",
     "text": [
      "--- Train epoch-16, step-31314 ---\n",
      "loss: 0.1851\n",
      "Evaluation: 100%|█████████████████████████████████████████████████████████████| 233/233 [00:04<00:00, 56.38it/s]\n",
      "--- Eval epoch-16, step-31314 ---\n",
      "jaccard_samples: 0.4433\n",
      "accuracy: 0.0017\n",
      "hamming_loss: 0.0788\n",
      "precision_samples: 0.7770\n",
      "recall_samples: 0.5210\n",
      "pr_auc_samples: 0.7538\n",
      "f1_samples: 0.5947\n",
      "loss: 0.1914\n",
      "\n"
     ]
    },
    {
     "data": {
      "application/vnd.jupyter.widget-view+json": {
       "model_id": "e8d908f78f694f009beab4abf229d3cb",
       "version_major": 2,
       "version_minor": 0
      },
      "text/plain": [
       "Epoch 17 / 20:   0%|          | 0/1842 [00:00<?, ?it/s]"
      ]
     },
     "metadata": {},
     "output_type": "display_data"
    },
    {
     "name": "stderr",
     "output_type": "stream",
     "text": [
      "--- Train epoch-17, step-33156 ---\n",
      "loss: 0.1845\n",
      "Evaluation: 100%|█████████████████████████████████████████████████████████████| 233/233 [00:04<00:00, 56.58it/s]\n",
      "--- Eval epoch-17, step-33156 ---\n",
      "jaccard_samples: 0.4485\n",
      "accuracy: 0.0019\n",
      "hamming_loss: 0.0789\n",
      "precision_samples: 0.7670\n",
      "recall_samples: 0.5339\n",
      "pr_auc_samples: 0.7532\n",
      "f1_samples: 0.6000\n",
      "loss: 0.1911\n",
      "\n"
     ]
    },
    {
     "data": {
      "application/vnd.jupyter.widget-view+json": {
       "model_id": "169ba8e0ed5d42acae3308a80b78da4c",
       "version_major": 2,
       "version_minor": 0
      },
      "text/plain": [
       "Epoch 18 / 20:   0%|          | 0/1842 [00:00<?, ?it/s]"
      ]
     },
     "metadata": {},
     "output_type": "display_data"
    },
    {
     "name": "stderr",
     "output_type": "stream",
     "text": [
      "--- Train epoch-18, step-34998 ---\n",
      "loss: 0.1843\n",
      "Evaluation: 100%|█████████████████████████████████████████████████████████████| 233/233 [00:04<00:00, 56.13it/s]\n",
      "--- Eval epoch-18, step-34998 ---\n",
      "jaccard_samples: 0.4506\n",
      "accuracy: 0.0022\n",
      "hamming_loss: 0.0792\n",
      "precision_samples: 0.7612\n",
      "recall_samples: 0.5415\n",
      "pr_auc_samples: 0.7524\n",
      "f1_samples: 0.6017\n",
      "loss: 0.1912\n",
      "\n"
     ]
    },
    {
     "data": {
      "application/vnd.jupyter.widget-view+json": {
       "model_id": "22887acf864c4ef6b62f264946888980",
       "version_major": 2,
       "version_minor": 0
      },
      "text/plain": [
       "Epoch 19 / 20:   0%|          | 0/1842 [00:00<?, ?it/s]"
      ]
     },
     "metadata": {},
     "output_type": "display_data"
    },
    {
     "name": "stderr",
     "output_type": "stream",
     "text": [
      "--- Train epoch-19, step-36840 ---\n",
      "loss: 0.1839\n",
      "Evaluation: 100%|█████████████████████████████████████████████████████████████| 233/233 [00:04<00:00, 56.61it/s]\n",
      "--- Eval epoch-19, step-36840 ---\n",
      "jaccard_samples: 0.4508\n",
      "accuracy: 0.0017\n",
      "hamming_loss: 0.0789\n",
      "precision_samples: 0.7637\n",
      "recall_samples: 0.5390\n",
      "pr_auc_samples: 0.7532\n",
      "f1_samples: 0.6021\n",
      "loss: 0.1908\n",
      "Loaded best model\n"
     ]
    },
    {
     "name": "stdout",
     "output_type": "stream",
     "text": [
      "--training retain on no_hist data--\n",
      "making retain model\n"
     ]
    },
    {
     "name": "stderr",
     "output_type": "stream",
     "text": [
      "RETAIN(\n",
      "  (embeddings): ModuleDict(\n",
      "    (conditions): Embedding(19186, 128, padding_idx=0)\n",
      "    (procedures): Embedding(10605, 128, padding_idx=0)\n",
      "  )\n",
      "  (linear_layers): ModuleDict()\n",
      "  (retain): ModuleDict(\n",
      "    (conditions): RETAINLayer(\n",
      "      (dropout_layer): Dropout(p=0.5, inplace=False)\n",
      "      (alpha_gru): GRU(128, 128, batch_first=True)\n",
      "      (beta_gru): GRU(128, 128, batch_first=True)\n",
      "      (alpha_li): Linear(in_features=128, out_features=1, bias=True)\n",
      "      (beta_li): Linear(in_features=128, out_features=128, bias=True)\n",
      "    )\n",
      "    (procedures): RETAINLayer(\n",
      "      (dropout_layer): Dropout(p=0.5, inplace=False)\n",
      "      (alpha_gru): GRU(128, 128, batch_first=True)\n",
      "      (beta_gru): GRU(128, 128, batch_first=True)\n",
      "      (alpha_li): Linear(in_features=128, out_features=1, bias=True)\n",
      "      (beta_li): Linear(in_features=128, out_features=128, bias=True)\n",
      "    )\n",
      "  )\n",
      "  (fc): Linear(in_features=256, out_features=200, bias=True)\n",
      ")\n",
      "Metrics: ['jaccard_samples', 'accuracy', 'hamming_loss', 'precision_samples', 'recall_samples', 'pr_auc_samples', 'f1_samples']\n",
      "Device: cuda\n",
      "\n",
      "Training:\n",
      "Batch size: 64\n",
      "Optimizer: <class 'torch.optim.adam.Adam'>\n",
      "Optimizer params: {'lr': 0.001}\n",
      "Weight decay: 1e-05\n",
      "Max grad norm: None\n",
      "Val dataloader: <torch.utils.data.dataloader.DataLoader object at 0x7f966046e970>\n",
      "Monitor: accuracy\n",
      "Monitor criterion: max\n",
      "Epochs: 20\n",
      "\n"
     ]
    },
    {
     "data": {
      "application/vnd.jupyter.widget-view+json": {
       "model_id": "43f25460f982471bac5767d9125f0504",
       "version_major": 2,
       "version_minor": 0
      },
      "text/plain": [
       "Epoch 0 / 20:   0%|          | 0/1838 [00:00<?, ?it/s]"
      ]
     },
     "metadata": {},
     "output_type": "display_data"
    },
    {
     "name": "stderr",
     "output_type": "stream",
     "text": [
      "--- Train epoch-0, step-1838 ---\n",
      "loss: 0.2469\n",
      "Evaluation: 100%|████████████████████████████████████████████████████████████| 234/234 [00:02<00:00, 111.71it/s]\n",
      "/home/ram/code/school/dl4h/final/submit/GAMENet/pyhealth/.v2/lib/python3.8/site-packages/sklearn/metrics/_classification.py:1344: UndefinedMetricWarning: Precision is ill-defined and being set to 0.0 in samples with no predicted labels. Use `zero_division` parameter to control this behavior.\n",
      "  _warn_prf(average, modifier, msg_start, len(result))\n",
      "--- Eval epoch-0, step-1838 ---\n",
      "jaccard_samples: 0.3952\n",
      "accuracy: 0.0015\n",
      "hamming_loss: 0.0857\n",
      "precision_samples: 0.7390\n",
      "recall_samples: 0.4734\n",
      "pr_auc_samples: 0.7001\n",
      "f1_samples: 0.5465\n",
      "loss: 0.2218\n",
      "New best accuracy score (0.0015) at epoch-0, step-1838\n",
      "\n"
     ]
    },
    {
     "data": {
      "application/vnd.jupyter.widget-view+json": {
       "model_id": "e1d9d34956314d9ca503a5a493db2e67",
       "version_major": 2,
       "version_minor": 0
      },
      "text/plain": [
       "Epoch 1 / 20:   0%|          | 0/1838 [00:00<?, ?it/s]"
      ]
     },
     "metadata": {},
     "output_type": "display_data"
    },
    {
     "name": "stderr",
     "output_type": "stream",
     "text": [
      "--- Train epoch-1, step-3676 ---\n",
      "loss: 0.2168\n",
      "Evaluation: 100%|████████████████████████████████████████████████████████████| 234/234 [00:02<00:00, 113.92it/s]\n",
      "--- Eval epoch-1, step-3676 ---\n",
      "jaccard_samples: 0.4125\n",
      "accuracy: 0.0017\n",
      "hamming_loss: 0.0831\n",
      "precision_samples: 0.7499\n",
      "recall_samples: 0.4909\n",
      "pr_auc_samples: 0.7177\n",
      "f1_samples: 0.5645\n",
      "loss: 0.2097\n",
      "New best accuracy score (0.0017) at epoch-1, step-3676\n",
      "\n"
     ]
    },
    {
     "data": {
      "application/vnd.jupyter.widget-view+json": {
       "model_id": "c2e274e78bd440b485de1e8d5f196151",
       "version_major": 2,
       "version_minor": 0
      },
      "text/plain": [
       "Epoch 2 / 20:   0%|          | 0/1838 [00:00<?, ?it/s]"
      ]
     },
     "metadata": {},
     "output_type": "display_data"
    },
    {
     "name": "stderr",
     "output_type": "stream",
     "text": [
      "--- Train epoch-2, step-5514 ---\n",
      "loss: 0.2082\n",
      "Evaluation: 100%|████████████████████████████████████████████████████████████| 234/234 [00:02<00:00, 111.54it/s]\n",
      "--- Eval epoch-2, step-5514 ---\n",
      "jaccard_samples: 0.4284\n",
      "accuracy: 0.0017\n",
      "hamming_loss: 0.0809\n",
      "precision_samples: 0.7523\n",
      "recall_samples: 0.5101\n",
      "pr_auc_samples: 0.7298\n",
      "f1_samples: 0.5806\n",
      "loss: 0.2015\n",
      "\n"
     ]
    },
    {
     "data": {
      "application/vnd.jupyter.widget-view+json": {
       "model_id": "69b198fec07b419ca695b00695c02980",
       "version_major": 2,
       "version_minor": 0
      },
      "text/plain": [
       "Epoch 3 / 20:   0%|          | 0/1838 [00:00<?, ?it/s]"
      ]
     },
     "metadata": {},
     "output_type": "display_data"
    },
    {
     "name": "stderr",
     "output_type": "stream",
     "text": [
      "--- Train epoch-3, step-7352 ---\n",
      "loss: 0.2026\n",
      "Evaluation: 100%|████████████████████████████████████████████████████████████| 234/234 [00:02<00:00, 113.25it/s]\n",
      "--- Eval epoch-3, step-7352 ---\n",
      "jaccard_samples: 0.4342\n",
      "accuracy: 0.0017\n",
      "hamming_loss: 0.0799\n",
      "precision_samples: 0.7609\n",
      "recall_samples: 0.5140\n",
      "pr_auc_samples: 0.7377\n",
      "f1_samples: 0.5863\n",
      "loss: 0.1968\n",
      "\n"
     ]
    },
    {
     "data": {
      "application/vnd.jupyter.widget-view+json": {
       "model_id": "f2e0bc9769c54871b26faf9ef0c12cf0",
       "version_major": 2,
       "version_minor": 0
      },
      "text/plain": [
       "Epoch 4 / 20:   0%|          | 0/1838 [00:00<?, ?it/s]"
      ]
     },
     "metadata": {},
     "output_type": "display_data"
    },
    {
     "name": "stderr",
     "output_type": "stream",
     "text": [
      "--- Train epoch-4, step-9190 ---\n",
      "loss: 0.1992\n",
      "Evaluation: 100%|████████████████████████████████████████████████████████████| 234/234 [00:02<00:00, 114.22it/s]\n",
      "--- Eval epoch-4, step-9190 ---\n",
      "jaccard_samples: 0.4369\n",
      "accuracy: 0.0016\n",
      "hamming_loss: 0.0793\n",
      "precision_samples: 0.7657\n",
      "recall_samples: 0.5149\n",
      "pr_auc_samples: 0.7424\n",
      "f1_samples: 0.5889\n",
      "loss: 0.1947\n",
      "\n"
     ]
    },
    {
     "data": {
      "application/vnd.jupyter.widget-view+json": {
       "model_id": "20d43aea7fe64274abb5017e3c47801d",
       "version_major": 2,
       "version_minor": 0
      },
      "text/plain": [
       "Epoch 5 / 20:   0%|          | 0/1838 [00:00<?, ?it/s]"
      ]
     },
     "metadata": {},
     "output_type": "display_data"
    },
    {
     "name": "stderr",
     "output_type": "stream",
     "text": [
      "--- Train epoch-5, step-11028 ---\n",
      "loss: 0.1967\n",
      "Evaluation: 100%|████████████████████████████████████████████████████████████| 234/234 [00:02<00:00, 112.91it/s]\n",
      "--- Eval epoch-5, step-11028 ---\n",
      "jaccard_samples: 0.4370\n",
      "accuracy: 0.0017\n",
      "hamming_loss: 0.0789\n",
      "precision_samples: 0.7717\n",
      "recall_samples: 0.5124\n",
      "pr_auc_samples: 0.7445\n",
      "f1_samples: 0.5888\n",
      "loss: 0.1932\n",
      "\n"
     ]
    },
    {
     "data": {
      "application/vnd.jupyter.widget-view+json": {
       "model_id": "0ecb36fee238466aaebbdbe568f16ffe",
       "version_major": 2,
       "version_minor": 0
      },
      "text/plain": [
       "Epoch 6 / 20:   0%|          | 0/1838 [00:00<?, ?it/s]"
      ]
     },
     "metadata": {},
     "output_type": "display_data"
    },
    {
     "name": "stderr",
     "output_type": "stream",
     "text": [
      "--- Train epoch-6, step-12866 ---\n",
      "loss: 0.1951\n",
      "Evaluation: 100%|████████████████████████████████████████████████████████████| 234/234 [00:02<00:00, 112.20it/s]\n",
      "--- Eval epoch-6, step-12866 ---\n",
      "jaccard_samples: 0.4445\n",
      "accuracy: 0.0015\n",
      "hamming_loss: 0.0785\n",
      "precision_samples: 0.7633\n",
      "recall_samples: 0.5277\n",
      "pr_auc_samples: 0.7463\n",
      "f1_samples: 0.5959\n",
      "loss: 0.1919\n",
      "\n"
     ]
    },
    {
     "data": {
      "application/vnd.jupyter.widget-view+json": {
       "model_id": "e2707f435b8546edbdddced9736c385b",
       "version_major": 2,
       "version_minor": 0
      },
      "text/plain": [
       "Epoch 7 / 20:   0%|          | 0/1838 [00:00<?, ?it/s]"
      ]
     },
     "metadata": {},
     "output_type": "display_data"
    },
    {
     "name": "stderr",
     "output_type": "stream",
     "text": [
      "--- Train epoch-7, step-14704 ---\n",
      "loss: 0.1936\n",
      "Evaluation: 100%|████████████████████████████████████████████████████████████| 234/234 [00:02<00:00, 113.10it/s]\n",
      "--- Eval epoch-7, step-14704 ---\n",
      "jaccard_samples: 0.4392\n",
      "accuracy: 0.0019\n",
      "hamming_loss: 0.0785\n",
      "precision_samples: 0.7746\n",
      "recall_samples: 0.5140\n",
      "pr_auc_samples: 0.7482\n",
      "f1_samples: 0.5908\n",
      "loss: 0.1916\n",
      "New best accuracy score (0.0019) at epoch-7, step-14704\n",
      "\n"
     ]
    },
    {
     "data": {
      "application/vnd.jupyter.widget-view+json": {
       "model_id": "5cf2fb1507894d3780130e16508d255b",
       "version_major": 2,
       "version_minor": 0
      },
      "text/plain": [
       "Epoch 8 / 20:   0%|          | 0/1838 [00:00<?, ?it/s]"
      ]
     },
     "metadata": {},
     "output_type": "display_data"
    },
    {
     "name": "stderr",
     "output_type": "stream",
     "text": [
      "--- Train epoch-8, step-16542 ---\n",
      "loss: 0.1927\n",
      "Evaluation: 100%|████████████████████████████████████████████████████████████| 234/234 [00:02<00:00, 113.79it/s]\n",
      "--- Eval epoch-8, step-16542 ---\n",
      "jaccard_samples: 0.4463\n",
      "accuracy: 0.0017\n",
      "hamming_loss: 0.0785\n",
      "precision_samples: 0.7631\n",
      "recall_samples: 0.5303\n",
      "pr_auc_samples: 0.7482\n",
      "f1_samples: 0.5976\n",
      "loss: 0.1911\n",
      "\n"
     ]
    },
    {
     "data": {
      "application/vnd.jupyter.widget-view+json": {
       "model_id": "0035629c0e3449148eef8f8ecdb8b50e",
       "version_major": 2,
       "version_minor": 0
      },
      "text/plain": [
       "Epoch 9 / 20:   0%|          | 0/1838 [00:00<?, ?it/s]"
      ]
     },
     "metadata": {},
     "output_type": "display_data"
    },
    {
     "name": "stderr",
     "output_type": "stream",
     "text": [
      "--- Train epoch-9, step-18380 ---\n",
      "loss: 0.1918\n",
      "Evaluation: 100%|████████████████████████████████████████████████████████████| 234/234 [00:02<00:00, 112.57it/s]\n",
      "--- Eval epoch-9, step-18380 ---\n",
      "jaccard_samples: 0.4439\n",
      "accuracy: 0.0017\n",
      "hamming_loss: 0.0784\n",
      "precision_samples: 0.7704\n",
      "recall_samples: 0.5239\n",
      "pr_auc_samples: 0.7501\n",
      "f1_samples: 0.5952\n",
      "loss: 0.1907\n",
      "\n"
     ]
    },
    {
     "data": {
      "application/vnd.jupyter.widget-view+json": {
       "model_id": "14a0c2babdbd49759e6bf97c8c5723aa",
       "version_major": 2,
       "version_minor": 0
      },
      "text/plain": [
       "Epoch 10 / 20:   0%|          | 0/1838 [00:00<?, ?it/s]"
      ]
     },
     "metadata": {},
     "output_type": "display_data"
    },
    {
     "name": "stderr",
     "output_type": "stream",
     "text": [
      "--- Train epoch-10, step-20218 ---\n",
      "loss: 0.1911\n",
      "Evaluation: 100%|████████████████████████████████████████████████████████████| 234/234 [00:02<00:00, 114.66it/s]\n",
      "/home/ram/code/school/dl4h/final/submit/GAMENet/pyhealth/.v2/lib/python3.8/site-packages/sklearn/metrics/_classification.py:1344: UndefinedMetricWarning: Precision is ill-defined and being set to 0.0 in samples with no predicted labels. Use `zero_division` parameter to control this behavior.\n",
      "  _warn_prf(average, modifier, msg_start, len(result))\n",
      "--- Eval epoch-10, step-20218 ---\n",
      "jaccard_samples: 0.4420\n",
      "accuracy: 0.0015\n",
      "hamming_loss: 0.0784\n",
      "precision_samples: 0.7718\n",
      "recall_samples: 0.5209\n",
      "pr_auc_samples: 0.7497\n",
      "f1_samples: 0.5935\n",
      "loss: 0.1908\n",
      "\n"
     ]
    },
    {
     "data": {
      "application/vnd.jupyter.widget-view+json": {
       "model_id": "8665cc0b02f24127a02e170fba326488",
       "version_major": 2,
       "version_minor": 0
      },
      "text/plain": [
       "Epoch 11 / 20:   0%|          | 0/1838 [00:00<?, ?it/s]"
      ]
     },
     "metadata": {},
     "output_type": "display_data"
    },
    {
     "name": "stderr",
     "output_type": "stream",
     "text": [
      "--- Train epoch-11, step-22056 ---\n",
      "loss: 0.1904\n",
      "Evaluation: 100%|████████████████████████████████████████████████████████████| 234/234 [00:02<00:00, 114.40it/s]\n",
      "/home/ram/code/school/dl4h/final/submit/GAMENet/pyhealth/.v2/lib/python3.8/site-packages/sklearn/metrics/_classification.py:1344: UndefinedMetricWarning: Precision is ill-defined and being set to 0.0 in samples with no predicted labels. Use `zero_division` parameter to control this behavior.\n",
      "  _warn_prf(average, modifier, msg_start, len(result))\n",
      "--- Eval epoch-11, step-22056 ---\n",
      "jaccard_samples: 0.4416\n",
      "accuracy: 0.0019\n",
      "hamming_loss: 0.0782\n",
      "precision_samples: 0.7766\n",
      "recall_samples: 0.5170\n",
      "pr_auc_samples: 0.7508\n",
      "f1_samples: 0.5931\n",
      "loss: 0.1906\n",
      "\n"
     ]
    },
    {
     "data": {
      "application/vnd.jupyter.widget-view+json": {
       "model_id": "f2312cee49b240d7916fce441e66fbf0",
       "version_major": 2,
       "version_minor": 0
      },
      "text/plain": [
       "Epoch 12 / 20:   0%|          | 0/1838 [00:00<?, ?it/s]"
      ]
     },
     "metadata": {},
     "output_type": "display_data"
    },
    {
     "name": "stderr",
     "output_type": "stream",
     "text": [
      "--- Train epoch-12, step-23894 ---\n",
      "loss: 0.1897\n",
      "Evaluation: 100%|████████████████████████████████████████████████████████████| 234/234 [00:02<00:00, 111.72it/s]\n",
      "--- Eval epoch-12, step-23894 ---\n",
      "jaccard_samples: 0.4459\n",
      "accuracy: 0.0017\n",
      "hamming_loss: 0.0785\n",
      "precision_samples: 0.7667\n",
      "recall_samples: 0.5283\n",
      "pr_auc_samples: 0.7499\n",
      "f1_samples: 0.5975\n",
      "loss: 0.1906\n",
      "\n"
     ]
    },
    {
     "data": {
      "application/vnd.jupyter.widget-view+json": {
       "model_id": "22306ef82cdb4e31958eb5d0b07fb8e0",
       "version_major": 2,
       "version_minor": 0
      },
      "text/plain": [
       "Epoch 13 / 20:   0%|          | 0/1838 [00:00<?, ?it/s]"
      ]
     },
     "metadata": {},
     "output_type": "display_data"
    },
    {
     "name": "stderr",
     "output_type": "stream",
     "text": [
      "--- Train epoch-13, step-25732 ---\n",
      "loss: 0.1892\n",
      "Evaluation: 100%|████████████████████████████████████████████████████████████| 234/234 [00:02<00:00, 112.67it/s]\n",
      "--- Eval epoch-13, step-25732 ---\n",
      "jaccard_samples: 0.4444\n",
      "accuracy: 0.0017\n",
      "hamming_loss: 0.0784\n",
      "precision_samples: 0.7714\n",
      "recall_samples: 0.5235\n",
      "pr_auc_samples: 0.7511\n",
      "f1_samples: 0.5958\n",
      "loss: 0.1904\n",
      "\n"
     ]
    },
    {
     "data": {
      "application/vnd.jupyter.widget-view+json": {
       "model_id": "f0230ed68dd04e1abdc3294c8307a82f",
       "version_major": 2,
       "version_minor": 0
      },
      "text/plain": [
       "Epoch 14 / 20:   0%|          | 0/1838 [00:00<?, ?it/s]"
      ]
     },
     "metadata": {},
     "output_type": "display_data"
    },
    {
     "name": "stderr",
     "output_type": "stream",
     "text": [
      "--- Train epoch-14, step-27570 ---\n",
      "loss: 0.1886\n",
      "Evaluation: 100%|████████████████████████████████████████████████████████████| 234/234 [00:02<00:00, 113.21it/s]\n",
      "--- Eval epoch-14, step-27570 ---\n",
      "jaccard_samples: 0.4403\n",
      "accuracy: 0.0017\n",
      "hamming_loss: 0.0787\n",
      "precision_samples: 0.7767\n",
      "recall_samples: 0.5159\n",
      "pr_auc_samples: 0.7508\n",
      "f1_samples: 0.5916\n",
      "loss: 0.1906\n",
      "\n"
     ]
    },
    {
     "data": {
      "application/vnd.jupyter.widget-view+json": {
       "model_id": "e65f23325a864dcd96c29bd8b674987b",
       "version_major": 2,
       "version_minor": 0
      },
      "text/plain": [
       "Epoch 15 / 20:   0%|          | 0/1838 [00:00<?, ?it/s]"
      ]
     },
     "metadata": {},
     "output_type": "display_data"
    },
    {
     "name": "stderr",
     "output_type": "stream",
     "text": [
      "--- Train epoch-15, step-29408 ---\n",
      "loss: 0.1880\n",
      "Evaluation: 100%|████████████████████████████████████████████████████████████| 234/234 [00:02<00:00, 114.27it/s]\n",
      "--- Eval epoch-15, step-29408 ---\n",
      "jaccard_samples: 0.4421\n",
      "accuracy: 0.0017\n",
      "hamming_loss: 0.0789\n",
      "precision_samples: 0.7718\n",
      "recall_samples: 0.5222\n",
      "pr_auc_samples: 0.7499\n",
      "f1_samples: 0.5931\n",
      "loss: 0.1911\n",
      "\n"
     ]
    },
    {
     "data": {
      "application/vnd.jupyter.widget-view+json": {
       "model_id": "28b8a7c6486c420db1565b56bdafab58",
       "version_major": 2,
       "version_minor": 0
      },
      "text/plain": [
       "Epoch 16 / 20:   0%|          | 0/1838 [00:00<?, ?it/s]"
      ]
     },
     "metadata": {},
     "output_type": "display_data"
    },
    {
     "name": "stderr",
     "output_type": "stream",
     "text": [
      "--- Train epoch-16, step-31246 ---\n",
      "loss: 0.1875\n",
      "Evaluation: 100%|████████████████████████████████████████████████████████████| 234/234 [00:02<00:00, 112.94it/s]\n",
      "/home/ram/code/school/dl4h/final/submit/GAMENet/pyhealth/.v2/lib/python3.8/site-packages/sklearn/metrics/_classification.py:1344: UndefinedMetricWarning: Precision is ill-defined and being set to 0.0 in samples with no predicted labels. Use `zero_division` parameter to control this behavior.\n",
      "  _warn_prf(average, modifier, msg_start, len(result))\n",
      "--- Eval epoch-16, step-31246 ---\n",
      "jaccard_samples: 0.4419\n",
      "accuracy: 0.0016\n",
      "hamming_loss: 0.0787\n",
      "precision_samples: 0.7727\n",
      "recall_samples: 0.5203\n",
      "pr_auc_samples: 0.7500\n",
      "f1_samples: 0.5932\n",
      "loss: 0.1909\n",
      "\n"
     ]
    },
    {
     "data": {
      "application/vnd.jupyter.widget-view+json": {
       "model_id": "6786abb7bcba49ab82b5f8769e0a57e4",
       "version_major": 2,
       "version_minor": 0
      },
      "text/plain": [
       "Epoch 17 / 20:   0%|          | 0/1838 [00:00<?, ?it/s]"
      ]
     },
     "metadata": {},
     "output_type": "display_data"
    },
    {
     "name": "stderr",
     "output_type": "stream",
     "text": [
      "--- Train epoch-17, step-33084 ---\n",
      "loss: 0.1869\n",
      "Evaluation: 100%|████████████████████████████████████████████████████████████| 234/234 [00:02<00:00, 111.73it/s]\n",
      "--- Eval epoch-17, step-33084 ---\n",
      "jaccard_samples: 0.4426\n",
      "accuracy: 0.0013\n",
      "hamming_loss: 0.0786\n",
      "precision_samples: 0.7724\n",
      "recall_samples: 0.5214\n",
      "pr_auc_samples: 0.7505\n",
      "f1_samples: 0.5940\n",
      "loss: 0.1910\n",
      "\n"
     ]
    },
    {
     "data": {
      "application/vnd.jupyter.widget-view+json": {
       "model_id": "1423806fe41b4f4aa87c55d3968e9ecf",
       "version_major": 2,
       "version_minor": 0
      },
      "text/plain": [
       "Epoch 18 / 20:   0%|          | 0/1838 [00:00<?, ?it/s]"
      ]
     },
     "metadata": {},
     "output_type": "display_data"
    },
    {
     "name": "stderr",
     "output_type": "stream",
     "text": [
      "--- Train epoch-18, step-34922 ---\n",
      "loss: 0.1863\n",
      "Evaluation: 100%|████████████████████████████████████████████████████████████| 234/234 [00:02<00:00, 112.65it/s]\n",
      "--- Eval epoch-18, step-34922 ---\n",
      "jaccard_samples: 0.4334\n",
      "accuracy: 0.0018\n",
      "hamming_loss: 0.0791\n",
      "precision_samples: 0.7841\n",
      "recall_samples: 0.5033\n",
      "pr_auc_samples: 0.7501\n",
      "f1_samples: 0.5846\n",
      "loss: 0.1920\n",
      "\n"
     ]
    },
    {
     "data": {
      "application/vnd.jupyter.widget-view+json": {
       "model_id": "01abbef4ebb941528a70150678213046",
       "version_major": 2,
       "version_minor": 0
      },
      "text/plain": [
       "Epoch 19 / 20:   0%|          | 0/1838 [00:00<?, ?it/s]"
      ]
     },
     "metadata": {},
     "output_type": "display_data"
    },
    {
     "name": "stderr",
     "output_type": "stream",
     "text": [
      "--- Train epoch-19, step-36760 ---\n",
      "loss: 0.1858\n",
      "Evaluation: 100%|████████████████████████████████████████████████████████████| 234/234 [00:02<00:00, 112.96it/s]\n",
      "/home/ram/code/school/dl4h/final/submit/GAMENet/pyhealth/.v2/lib/python3.8/site-packages/sklearn/metrics/_classification.py:1344: UndefinedMetricWarning: Precision is ill-defined and being set to 0.0 in samples with no predicted labels. Use `zero_division` parameter to control this behavior.\n",
      "  _warn_prf(average, modifier, msg_start, len(result))\n",
      "--- Eval epoch-19, step-36760 ---\n",
      "jaccard_samples: 0.4417\n",
      "accuracy: 0.0016\n",
      "hamming_loss: 0.0787\n",
      "precision_samples: 0.7731\n",
      "recall_samples: 0.5199\n",
      "pr_auc_samples: 0.7500\n",
      "f1_samples: 0.5928\n",
      "loss: 0.1913\n",
      "Loaded best model\n"
     ]
    },
    {
     "name": "stdout",
     "output_type": "stream",
     "text": [
      "--training retain on no_proc data--\n",
      "making retain model\n"
     ]
    },
    {
     "name": "stderr",
     "output_type": "stream",
     "text": [
      "RETAIN(\n",
      "  (embeddings): ModuleDict(\n",
      "    (conditions): Embedding(22643, 128, padding_idx=0)\n",
      "  )\n",
      "  (linear_layers): ModuleDict()\n",
      "  (retain): ModuleDict(\n",
      "    (conditions): RETAINLayer(\n",
      "      (dropout_layer): Dropout(p=0.5, inplace=False)\n",
      "      (alpha_gru): GRU(128, 128, batch_first=True)\n",
      "      (beta_gru): GRU(128, 128, batch_first=True)\n",
      "      (alpha_li): Linear(in_features=128, out_features=1, bias=True)\n",
      "      (beta_li): Linear(in_features=128, out_features=128, bias=True)\n",
      "    )\n",
      "  )\n",
      "  (fc): Linear(in_features=128, out_features=201, bias=True)\n",
      ")\n",
      "Metrics: ['jaccard_samples', 'accuracy', 'hamming_loss', 'precision_samples', 'recall_samples', 'pr_auc_samples', 'f1_samples']\n",
      "Device: cuda\n",
      "\n",
      "Training:\n",
      "Batch size: 64\n",
      "Optimizer: <class 'torch.optim.adam.Adam'>\n",
      "Optimizer params: {'lr': 0.001}\n",
      "Weight decay: 1e-05\n",
      "Max grad norm: None\n",
      "Val dataloader: <torch.utils.data.dataloader.DataLoader object at 0x7f9660473100>\n",
      "Monitor: accuracy\n",
      "Monitor criterion: max\n",
      "Epochs: 20\n",
      "\n"
     ]
    },
    {
     "data": {
      "application/vnd.jupyter.widget-view+json": {
       "model_id": "8f1b11b7577f4d57abd01095f6b02839",
       "version_major": 2,
       "version_minor": 0
      },
      "text/plain": [
       "Epoch 0 / 20:   0%|          | 0/3437 [00:00<?, ?it/s]"
      ]
     },
     "metadata": {},
     "output_type": "display_data"
    },
    {
     "name": "stderr",
     "output_type": "stream",
     "text": [
      "--- Train epoch-0, step-3437 ---\n",
      "loss: 0.2331\n",
      "Evaluation: 100%|█████████████████████████████████████████████████████████████| 435/435 [00:05<00:00, 84.98it/s]\n",
      "--- Eval epoch-0, step-3437 ---\n",
      "jaccard_samples: 0.3448\n",
      "accuracy: 0.0006\n",
      "hamming_loss: 0.0824\n",
      "precision_samples: 0.7396\n",
      "recall_samples: 0.4063\n",
      "pr_auc_samples: 0.6674\n",
      "f1_samples: 0.4957\n",
      "loss: 0.2080\n",
      "New best accuracy score (0.0006) at epoch-0, step-3437\n",
      "\n"
     ]
    },
    {
     "data": {
      "application/vnd.jupyter.widget-view+json": {
       "model_id": "cbbbe63478084152802fa5c5257349cd",
       "version_major": 2,
       "version_minor": 0
      },
      "text/plain": [
       "Epoch 1 / 20:   0%|          | 0/3437 [00:00<?, ?it/s]"
      ]
     },
     "metadata": {},
     "output_type": "display_data"
    },
    {
     "name": "stderr",
     "output_type": "stream",
     "text": [
      "--- Train epoch-1, step-6874 ---\n",
      "loss: 0.2024\n",
      "Evaluation: 100%|█████████████████████████████████████████████████████████████| 435/435 [00:05<00:00, 84.46it/s]\n",
      "--- Eval epoch-1, step-6874 ---\n",
      "jaccard_samples: 0.3778\n",
      "accuracy: 0.0006\n",
      "hamming_loss: 0.0791\n",
      "precision_samples: 0.7369\n",
      "recall_samples: 0.4531\n",
      "pr_auc_samples: 0.6900\n",
      "f1_samples: 0.5310\n",
      "loss: 0.1978\n",
      "\n"
     ]
    },
    {
     "data": {
      "application/vnd.jupyter.widget-view+json": {
       "model_id": "64989714e8ff432da5febb36df238f74",
       "version_major": 2,
       "version_minor": 0
      },
      "text/plain": [
       "Epoch 2 / 20:   0%|          | 0/3437 [00:00<?, ?it/s]"
      ]
     },
     "metadata": {},
     "output_type": "display_data"
    },
    {
     "name": "stderr",
     "output_type": "stream",
     "text": [
      "--- Train epoch-2, step-10311 ---\n",
      "loss: 0.1957\n",
      "Evaluation: 100%|█████████████████████████████████████████████████████████████| 435/435 [00:05<00:00, 83.70it/s]\n",
      "--- Eval epoch-2, step-10311 ---\n",
      "jaccard_samples: 0.3871\n",
      "accuracy: 0.0007\n",
      "hamming_loss: 0.0777\n",
      "precision_samples: 0.7441\n",
      "recall_samples: 0.4632\n",
      "pr_auc_samples: 0.7003\n",
      "f1_samples: 0.5403\n",
      "loss: 0.1929\n",
      "New best accuracy score (0.0007) at epoch-2, step-10311\n",
      "\n"
     ]
    },
    {
     "data": {
      "application/vnd.jupyter.widget-view+json": {
       "model_id": "06e7348bbde942429d396f19b56237d0",
       "version_major": 2,
       "version_minor": 0
      },
      "text/plain": [
       "Epoch 3 / 20:   0%|          | 0/3437 [00:00<?, ?it/s]"
      ]
     },
     "metadata": {},
     "output_type": "display_data"
    },
    {
     "name": "stderr",
     "output_type": "stream",
     "text": [
      "--- Train epoch-3, step-13748 ---\n",
      "loss: 0.1924\n",
      "Evaluation: 100%|█████████████████████████████████████████████████████████████| 435/435 [00:05<00:00, 84.09it/s]\n",
      "--- Eval epoch-3, step-13748 ---\n",
      "jaccard_samples: 0.3907\n",
      "accuracy: 0.0009\n",
      "hamming_loss: 0.0772\n",
      "precision_samples: 0.7458\n",
      "recall_samples: 0.4676\n",
      "pr_auc_samples: 0.7043\n",
      "f1_samples: 0.5437\n",
      "loss: 0.1909\n",
      "New best accuracy score (0.0009) at epoch-3, step-13748\n",
      "\n"
     ]
    },
    {
     "data": {
      "application/vnd.jupyter.widget-view+json": {
       "model_id": "dd5266df9f1b454d8365d8d34c04668b",
       "version_major": 2,
       "version_minor": 0
      },
      "text/plain": [
       "Epoch 4 / 20:   0%|          | 0/3437 [00:00<?, ?it/s]"
      ]
     },
     "metadata": {},
     "output_type": "display_data"
    },
    {
     "name": "stderr",
     "output_type": "stream",
     "text": [
      "--- Train epoch-4, step-17185 ---\n",
      "loss: 0.1904\n",
      "Evaluation: 100%|█████████████████████████████████████████████████████████████| 435/435 [00:05<00:00, 83.35it/s]\n",
      "--- Eval epoch-4, step-17185 ---\n",
      "jaccard_samples: 0.3906\n",
      "accuracy: 0.0009\n",
      "hamming_loss: 0.0769\n",
      "precision_samples: 0.7545\n",
      "recall_samples: 0.4626\n",
      "pr_auc_samples: 0.7083\n",
      "f1_samples: 0.5439\n",
      "loss: 0.1900\n",
      "\n"
     ]
    },
    {
     "data": {
      "application/vnd.jupyter.widget-view+json": {
       "model_id": "2fb01b47f0bf416da338ce7a6048f88c",
       "version_major": 2,
       "version_minor": 0
      },
      "text/plain": [
       "Epoch 5 / 20:   0%|          | 0/3437 [00:00<?, ?it/s]"
      ]
     },
     "metadata": {},
     "output_type": "display_data"
    },
    {
     "name": "stderr",
     "output_type": "stream",
     "text": [
      "--- Train epoch-5, step-20622 ---\n",
      "loss: 0.1893\n",
      "Evaluation: 100%|█████████████████████████████████████████████████████████████| 435/435 [00:05<00:00, 84.12it/s]\n",
      "--- Eval epoch-5, step-20622 ---\n",
      "jaccard_samples: 0.3918\n",
      "accuracy: 0.0010\n",
      "hamming_loss: 0.0766\n",
      "precision_samples: 0.7575\n",
      "recall_samples: 0.4632\n",
      "pr_auc_samples: 0.7098\n",
      "f1_samples: 0.5448\n",
      "loss: 0.1890\n",
      "New best accuracy score (0.0010) at epoch-5, step-20622\n",
      "\n"
     ]
    },
    {
     "data": {
      "application/vnd.jupyter.widget-view+json": {
       "model_id": "21f93a8894254b5383eae8b6aedd3a29",
       "version_major": 2,
       "version_minor": 0
      },
      "text/plain": [
       "Epoch 6 / 20:   0%|          | 0/3437 [00:00<?, ?it/s]"
      ]
     },
     "metadata": {},
     "output_type": "display_data"
    },
    {
     "name": "stderr",
     "output_type": "stream",
     "text": [
      "--- Train epoch-6, step-24059 ---\n",
      "loss: 0.1886\n",
      "Evaluation: 100%|█████████████████████████████████████████████████████████████| 435/435 [00:05<00:00, 84.93it/s]\n",
      "--- Eval epoch-6, step-24059 ---\n",
      "jaccard_samples: 0.3981\n",
      "accuracy: 0.0009\n",
      "hamming_loss: 0.0763\n",
      "precision_samples: 0.7491\n",
      "recall_samples: 0.4755\n",
      "pr_auc_samples: 0.7103\n",
      "f1_samples: 0.5514\n",
      "loss: 0.1883\n",
      "\n"
     ]
    },
    {
     "data": {
      "application/vnd.jupyter.widget-view+json": {
       "model_id": "4cedf8795c8947f3855d82ae7679faa2",
       "version_major": 2,
       "version_minor": 0
      },
      "text/plain": [
       "Epoch 7 / 20:   0%|          | 0/3437 [00:00<?, ?it/s]"
      ]
     },
     "metadata": {},
     "output_type": "display_data"
    },
    {
     "name": "stderr",
     "output_type": "stream",
     "text": [
      "--- Train epoch-7, step-27496 ---\n",
      "loss: 0.1881\n",
      "Evaluation: 100%|█████████████████████████████████████████████████████████████| 435/435 [00:05<00:00, 84.28it/s]\n",
      "--- Eval epoch-7, step-27496 ---\n",
      "jaccard_samples: 0.3980\n",
      "accuracy: 0.0011\n",
      "hamming_loss: 0.0764\n",
      "precision_samples: 0.7509\n",
      "recall_samples: 0.4750\n",
      "pr_auc_samples: 0.7111\n",
      "f1_samples: 0.5512\n",
      "loss: 0.1884\n",
      "New best accuracy score (0.0011) at epoch-7, step-27496\n",
      "\n"
     ]
    },
    {
     "data": {
      "application/vnd.jupyter.widget-view+json": {
       "model_id": "e722e9e09e234be4a6353f0f8058ea7e",
       "version_major": 2,
       "version_minor": 0
      },
      "text/plain": [
       "Epoch 8 / 20:   0%|          | 0/3437 [00:00<?, ?it/s]"
      ]
     },
     "metadata": {},
     "output_type": "display_data"
    },
    {
     "name": "stderr",
     "output_type": "stream",
     "text": [
      "--- Train epoch-8, step-30933 ---\n",
      "loss: 0.1876\n",
      "Evaluation: 100%|█████████████████████████████████████████████████████████████| 435/435 [00:05<00:00, 84.00it/s]\n",
      "--- Eval epoch-8, step-30933 ---\n",
      "jaccard_samples: 0.3940\n",
      "accuracy: 0.0011\n",
      "hamming_loss: 0.0763\n",
      "precision_samples: 0.7579\n",
      "recall_samples: 0.4663\n",
      "pr_auc_samples: 0.7119\n",
      "f1_samples: 0.5470\n",
      "loss: 0.1882\n",
      "\n"
     ]
    },
    {
     "data": {
      "application/vnd.jupyter.widget-view+json": {
       "model_id": "01efb1e31da7479b9b78e2efb5278171",
       "version_major": 2,
       "version_minor": 0
      },
      "text/plain": [
       "Epoch 9 / 20:   0%|          | 0/3437 [00:00<?, ?it/s]"
      ]
     },
     "metadata": {},
     "output_type": "display_data"
    },
    {
     "name": "stderr",
     "output_type": "stream",
     "text": [
      "--- Train epoch-9, step-34370 ---\n",
      "loss: 0.1873\n",
      "Evaluation: 100%|█████████████████████████████████████████████████████████████| 435/435 [00:05<00:00, 77.44it/s]\n",
      "--- Eval epoch-9, step-34370 ---\n",
      "jaccard_samples: 0.3942\n",
      "accuracy: 0.0012\n",
      "hamming_loss: 0.0764\n",
      "precision_samples: 0.7566\n",
      "recall_samples: 0.4666\n",
      "pr_auc_samples: 0.7115\n",
      "f1_samples: 0.5472\n",
      "loss: 0.1880\n",
      "New best accuracy score (0.0012) at epoch-9, step-34370\n",
      "\n"
     ]
    },
    {
     "data": {
      "application/vnd.jupyter.widget-view+json": {
       "model_id": "608d541ed96542ce80b024228c8a4269",
       "version_major": 2,
       "version_minor": 0
      },
      "text/plain": [
       "Epoch 10 / 20:   0%|          | 0/3437 [00:00<?, ?it/s]"
      ]
     },
     "metadata": {},
     "output_type": "display_data"
    },
    {
     "name": "stderr",
     "output_type": "stream",
     "text": [
      "--- Train epoch-10, step-37807 ---\n",
      "loss: 0.1871\n",
      "Evaluation: 100%|█████████████████████████████████████████████████████████████| 435/435 [00:05<00:00, 78.98it/s]\n",
      "--- Eval epoch-10, step-37807 ---\n",
      "jaccard_samples: 0.3897\n",
      "accuracy: 0.0010\n",
      "hamming_loss: 0.0766\n",
      "precision_samples: 0.7641\n",
      "recall_samples: 0.4568\n",
      "pr_auc_samples: 0.7120\n",
      "f1_samples: 0.5426\n",
      "loss: 0.1885\n",
      "\n"
     ]
    },
    {
     "data": {
      "application/vnd.jupyter.widget-view+json": {
       "model_id": "4b415d8143344b48949e827eab45a580",
       "version_major": 2,
       "version_minor": 0
      },
      "text/plain": [
       "Epoch 11 / 20:   0%|          | 0/3437 [00:00<?, ?it/s]"
      ]
     },
     "metadata": {},
     "output_type": "display_data"
    },
    {
     "name": "stderr",
     "output_type": "stream",
     "text": [
      "--- Train epoch-11, step-41244 ---\n",
      "loss: 0.1869\n",
      "Evaluation: 100%|█████████████████████████████████████████████████████████████| 435/435 [00:05<00:00, 84.52it/s]\n",
      "--- Eval epoch-11, step-41244 ---\n",
      "jaccard_samples: 0.3974\n",
      "accuracy: 0.0012\n",
      "hamming_loss: 0.0762\n",
      "precision_samples: 0.7533\n",
      "recall_samples: 0.4732\n",
      "pr_auc_samples: 0.7123\n",
      "f1_samples: 0.5505\n",
      "loss: 0.1875\n",
      "\n"
     ]
    },
    {
     "data": {
      "application/vnd.jupyter.widget-view+json": {
       "model_id": "aedb71392ecd48ce89641e106af2da0f",
       "version_major": 2,
       "version_minor": 0
      },
      "text/plain": [
       "Epoch 12 / 20:   0%|          | 0/3437 [00:00<?, ?it/s]"
      ]
     },
     "metadata": {},
     "output_type": "display_data"
    },
    {
     "name": "stderr",
     "output_type": "stream",
     "text": [
      "--- Train epoch-12, step-44681 ---\n",
      "loss: 0.1868\n",
      "Evaluation: 100%|█████████████████████████████████████████████████████████████| 435/435 [00:05<00:00, 80.04it/s]\n",
      "--- Eval epoch-12, step-44681 ---\n",
      "jaccard_samples: 0.3930\n",
      "accuracy: 0.0014\n",
      "hamming_loss: 0.0764\n",
      "precision_samples: 0.7629\n",
      "recall_samples: 0.4620\n",
      "pr_auc_samples: 0.7128\n",
      "f1_samples: 0.5459\n",
      "loss: 0.1882\n",
      "New best accuracy score (0.0014) at epoch-12, step-44681\n",
      "\n"
     ]
    },
    {
     "data": {
      "application/vnd.jupyter.widget-view+json": {
       "model_id": "ae4662fe3ede486cba6ccc20d644154b",
       "version_major": 2,
       "version_minor": 0
      },
      "text/plain": [
       "Epoch 13 / 20:   0%|          | 0/3437 [00:00<?, ?it/s]"
      ]
     },
     "metadata": {},
     "output_type": "display_data"
    },
    {
     "name": "stderr",
     "output_type": "stream",
     "text": [
      "--- Train epoch-13, step-48118 ---\n",
      "loss: 0.1866\n",
      "Evaluation: 100%|█████████████████████████████████████████████████████████████| 435/435 [00:05<00:00, 85.23it/s]\n",
      "--- Eval epoch-13, step-48118 ---\n",
      "jaccard_samples: 0.3932\n",
      "accuracy: 0.0011\n",
      "hamming_loss: 0.0763\n",
      "precision_samples: 0.7615\n",
      "recall_samples: 0.4629\n",
      "pr_auc_samples: 0.7128\n",
      "f1_samples: 0.5462\n",
      "loss: 0.1880\n",
      "\n"
     ]
    },
    {
     "data": {
      "application/vnd.jupyter.widget-view+json": {
       "model_id": "af124d67ec6642aaba138424c4b13755",
       "version_major": 2,
       "version_minor": 0
      },
      "text/plain": [
       "Epoch 14 / 20:   0%|          | 0/3437 [00:00<?, ?it/s]"
      ]
     },
     "metadata": {},
     "output_type": "display_data"
    },
    {
     "name": "stderr",
     "output_type": "stream",
     "text": [
      "--- Train epoch-14, step-51555 ---\n",
      "loss: 0.1866\n",
      "Evaluation: 100%|█████████████████████████████████████████████████████████████| 435/435 [00:05<00:00, 84.67it/s]\n",
      "--- Eval epoch-14, step-51555 ---\n",
      "jaccard_samples: 0.3978\n",
      "accuracy: 0.0011\n",
      "hamming_loss: 0.0762\n",
      "precision_samples: 0.7533\n",
      "recall_samples: 0.4737\n",
      "pr_auc_samples: 0.7125\n",
      "f1_samples: 0.5507\n",
      "loss: 0.1872\n",
      "\n"
     ]
    },
    {
     "data": {
      "application/vnd.jupyter.widget-view+json": {
       "model_id": "9bd65966622d4a52ad16cca97b1d44f5",
       "version_major": 2,
       "version_minor": 0
      },
      "text/plain": [
       "Epoch 15 / 20:   0%|          | 0/3437 [00:00<?, ?it/s]"
      ]
     },
     "metadata": {},
     "output_type": "display_data"
    },
    {
     "name": "stderr",
     "output_type": "stream",
     "text": [
      "--- Train epoch-15, step-54992 ---\n",
      "loss: 0.1864\n",
      "Evaluation: 100%|█████████████████████████████████████████████████████████████| 435/435 [00:05<00:00, 84.48it/s]\n",
      "--- Eval epoch-15, step-54992 ---\n",
      "jaccard_samples: 0.3954\n",
      "accuracy: 0.0010\n",
      "hamming_loss: 0.0763\n",
      "precision_samples: 0.7580\n",
      "recall_samples: 0.4675\n",
      "pr_auc_samples: 0.7130\n",
      "f1_samples: 0.5484\n",
      "loss: 0.1880\n",
      "\n"
     ]
    },
    {
     "data": {
      "application/vnd.jupyter.widget-view+json": {
       "model_id": "329a5fa088634dda87cee7ef6755eac4",
       "version_major": 2,
       "version_minor": 0
      },
      "text/plain": [
       "Epoch 16 / 20:   0%|          | 0/3437 [00:00<?, ?it/s]"
      ]
     },
     "metadata": {},
     "output_type": "display_data"
    },
    {
     "name": "stderr",
     "output_type": "stream",
     "text": [
      "--- Train epoch-16, step-58429 ---\n",
      "loss: 0.1864\n",
      "Evaluation: 100%|█████████████████████████████████████████████████████████████| 435/435 [00:05<00:00, 79.71it/s]\n",
      "--- Eval epoch-16, step-58429 ---\n",
      "jaccard_samples: 0.3962\n",
      "accuracy: 0.0009\n",
      "hamming_loss: 0.0762\n",
      "precision_samples: 0.7581\n",
      "recall_samples: 0.4699\n",
      "pr_auc_samples: 0.7132\n",
      "f1_samples: 0.5491\n",
      "loss: 0.1878\n",
      "\n"
     ]
    },
    {
     "data": {
      "application/vnd.jupyter.widget-view+json": {
       "model_id": "82c8742389ce4ff4a02e2fd5690d1c4a",
       "version_major": 2,
       "version_minor": 0
      },
      "text/plain": [
       "Epoch 17 / 20:   0%|          | 0/3437 [00:00<?, ?it/s]"
      ]
     },
     "metadata": {},
     "output_type": "display_data"
    },
    {
     "name": "stderr",
     "output_type": "stream",
     "text": [
      "--- Train epoch-17, step-61866 ---\n",
      "loss: 0.1863\n",
      "Evaluation: 100%|█████████████████████████████████████████████████████████████| 435/435 [00:05<00:00, 78.47it/s]\n",
      "--- Eval epoch-17, step-61866 ---\n",
      "jaccard_samples: 0.3999\n",
      "accuracy: 0.0011\n",
      "hamming_loss: 0.0762\n",
      "precision_samples: 0.7512\n",
      "recall_samples: 0.4770\n",
      "pr_auc_samples: 0.7128\n",
      "f1_samples: 0.5533\n",
      "loss: 0.1876\n",
      "\n"
     ]
    },
    {
     "data": {
      "application/vnd.jupyter.widget-view+json": {
       "model_id": "77e57c3e80774742aba8a1a6062ee5d4",
       "version_major": 2,
       "version_minor": 0
      },
      "text/plain": [
       "Epoch 18 / 20:   0%|          | 0/3437 [00:00<?, ?it/s]"
      ]
     },
     "metadata": {},
     "output_type": "display_data"
    },
    {
     "name": "stderr",
     "output_type": "stream",
     "text": [
      "--- Train epoch-18, step-65303 ---\n",
      "loss: 0.1863\n",
      "Evaluation: 100%|█████████████████████████████████████████████████████████████| 435/435 [00:05<00:00, 81.30it/s]\n",
      "--- Eval epoch-18, step-65303 ---\n",
      "jaccard_samples: 0.3945\n",
      "accuracy: 0.0010\n",
      "hamming_loss: 0.0761\n",
      "precision_samples: 0.7600\n",
      "recall_samples: 0.4662\n",
      "pr_auc_samples: 0.7126\n",
      "f1_samples: 0.5474\n",
      "loss: 0.1878\n",
      "\n"
     ]
    },
    {
     "data": {
      "application/vnd.jupyter.widget-view+json": {
       "model_id": "bb11c3b6f3fa494196d562657dafde18",
       "version_major": 2,
       "version_minor": 0
      },
      "text/plain": [
       "Epoch 19 / 20:   0%|          | 0/3437 [00:00<?, ?it/s]"
      ]
     },
     "metadata": {},
     "output_type": "display_data"
    },
    {
     "name": "stderr",
     "output_type": "stream",
     "text": [
      "--- Train epoch-19, step-68740 ---\n",
      "loss: 0.1861\n",
      "Evaluation: 100%|█████████████████████████████████████████████████████████████| 435/435 [00:05<00:00, 76.24it/s]\n",
      "--- Eval epoch-19, step-68740 ---\n",
      "jaccard_samples: 0.4026\n",
      "accuracy: 0.0010\n",
      "hamming_loss: 0.0761\n",
      "precision_samples: 0.7471\n",
      "recall_samples: 0.4837\n",
      "pr_auc_samples: 0.7128\n",
      "f1_samples: 0.5557\n",
      "loss: 0.1873\n",
      "Loaded best model\n"
     ]
    },
    {
     "name": "stdout",
     "output_type": "stream",
     "text": [
      "---GAMENET TRAINING---\n",
      "--training gamenet on drug_recommendation data--\n",
      "making gamenet model\n"
     ]
    },
    {
     "name": "stderr",
     "output_type": "stream",
     "text": [
      "GAMENet(\n",
      "  (embeddings): ModuleDict(\n",
      "    (conditions): Embedding(19186, 128, padding_idx=0)\n",
      "    (procedures): Embedding(10605, 128, padding_idx=0)\n",
      "  )\n",
      "  (cond_rnn): GRU(128, 128, batch_first=True)\n",
      "  (proc_rnn): GRU(128, 128, batch_first=True)\n",
      "  (query): Sequential(\n",
      "    (0): ReLU()\n",
      "    (1): Linear(in_features=256, out_features=128, bias=True)\n",
      "  )\n",
      "  (gamenet): GAMENetLayer(\n",
      "    (ehr_gcn): GCN(\n",
      "      (gcn1): GCNLayer()\n",
      "      (dropout_layer): Dropout(p=0.5, inplace=False)\n",
      "      (gcn2): GCNLayer()\n",
      "    )\n",
      "    (ddi_gcn): GCN(\n",
      "      (gcn1): GCNLayer()\n",
      "      (dropout_layer): Dropout(p=0.5, inplace=False)\n",
      "      (gcn2): GCNLayer()\n",
      "    )\n",
      "    (fc): Linear(in_features=384, out_features=200, bias=True)\n",
      "    (bce_loss_fn): BCEWithLogitsLoss()\n",
      "  )\n",
      ")\n",
      "Metrics: ['jaccard_samples', 'accuracy', 'hamming_loss', 'precision_samples', 'recall_samples', 'pr_auc_samples', 'f1_samples']\n",
      "Device: cuda\n",
      "\n",
      "Training:\n",
      "Batch size: 64\n",
      "Optimizer: <class 'torch.optim.adam.Adam'>\n",
      "Optimizer params: {'lr': 0.001}\n",
      "Weight decay: 1e-05\n",
      "Max grad norm: None\n",
      "Val dataloader: <torch.utils.data.dataloader.DataLoader object at 0x7f966046e280>\n",
      "Monitor: accuracy\n",
      "Monitor criterion: max\n",
      "Epochs: 20\n",
      "\n"
     ]
    },
    {
     "data": {
      "application/vnd.jupyter.widget-view+json": {
       "model_id": "8cd57e7d15d9499e8fa532bf7e002ac0",
       "version_major": 2,
       "version_minor": 0
      },
      "text/plain": [
       "Epoch 0 / 20:   0%|          | 0/1842 [00:00<?, ?it/s]"
      ]
     },
     "metadata": {},
     "output_type": "display_data"
    },
    {
     "name": "stderr",
     "output_type": "stream",
     "text": [
      "--- Train epoch-0, step-1842 ---\n",
      "loss: 0.2342\n",
      "Evaluation: 100%|█████████████████████████████████████████████████████████████| 233/233 [00:04<00:00, 54.68it/s]\n",
      "--- Eval epoch-0, step-1842 ---\n",
      "jaccard_samples: 0.3775\n",
      "accuracy: 0.0003\n",
      "hamming_loss: 0.0902\n",
      "precision_samples: 0.7069\n",
      "recall_samples: 0.4654\n",
      "pr_auc_samples: 0.6745\n",
      "f1_samples: 0.5304\n",
      "loss: 0.2182\n",
      "New best accuracy score (0.0003) at epoch-0, step-1842\n",
      "\n"
     ]
    },
    {
     "data": {
      "application/vnd.jupyter.widget-view+json": {
       "model_id": "fd73e5da627e46009106cd278746a77d",
       "version_major": 2,
       "version_minor": 0
      },
      "text/plain": [
       "Epoch 1 / 20:   0%|          | 0/1842 [00:00<?, ?it/s]"
      ]
     },
     "metadata": {},
     "output_type": "display_data"
    },
    {
     "name": "stderr",
     "output_type": "stream",
     "text": [
      "--- Train epoch-1, step-3684 ---\n",
      "loss: 0.2092\n",
      "Evaluation: 100%|█████████████████████████████████████████████████████████████| 233/233 [00:04<00:00, 55.17it/s]\n",
      "--- Eval epoch-1, step-3684 ---\n",
      "jaccard_samples: 0.4046\n",
      "accuracy: 0.0005\n",
      "hamming_loss: 0.0856\n",
      "precision_samples: 0.7243\n",
      "recall_samples: 0.4936\n",
      "pr_auc_samples: 0.7009\n",
      "f1_samples: 0.5583\n",
      "loss: 0.2073\n",
      "New best accuracy score (0.0005) at epoch-1, step-3684\n",
      "\n"
     ]
    },
    {
     "data": {
      "application/vnd.jupyter.widget-view+json": {
       "model_id": "499043b27ed04d4ebeda955faa9ce0a7",
       "version_major": 2,
       "version_minor": 0
      },
      "text/plain": [
       "Epoch 2 / 20:   0%|          | 0/1842 [00:00<?, ?it/s]"
      ]
     },
     "metadata": {},
     "output_type": "display_data"
    },
    {
     "name": "stderr",
     "output_type": "stream",
     "text": [
      "--- Train epoch-2, step-5526 ---\n",
      "loss: 0.1999\n",
      "Evaluation: 100%|█████████████████████████████████████████████████████████████| 233/233 [00:04<00:00, 55.62it/s]\n",
      "--- Eval epoch-2, step-5526 ---\n",
      "jaccard_samples: 0.4287\n",
      "accuracy: 0.0015\n",
      "hamming_loss: 0.0834\n",
      "precision_samples: 0.7240\n",
      "recall_samples: 0.5310\n",
      "pr_auc_samples: 0.7212\n",
      "f1_samples: 0.5813\n",
      "loss: 0.2017\n",
      "New best accuracy score (0.0015) at epoch-2, step-5526\n",
      "\n"
     ]
    },
    {
     "data": {
      "application/vnd.jupyter.widget-view+json": {
       "model_id": "eafa25bdf1904397a88e22143479a586",
       "version_major": 2,
       "version_minor": 0
      },
      "text/plain": [
       "Epoch 3 / 20:   0%|          | 0/1842 [00:00<?, ?it/s]"
      ]
     },
     "metadata": {},
     "output_type": "display_data"
    },
    {
     "name": "stderr",
     "output_type": "stream",
     "text": [
      "--- Train epoch-3, step-7368 ---\n",
      "loss: 0.1939\n",
      "Evaluation: 100%|█████████████████████████████████████████████████████████████| 233/233 [00:04<00:00, 55.27it/s]\n",
      "--- Eval epoch-3, step-7368 ---\n",
      "jaccard_samples: 0.4364\n",
      "accuracy: 0.0008\n",
      "hamming_loss: 0.0816\n",
      "precision_samples: 0.7362\n",
      "recall_samples: 0.5338\n",
      "pr_auc_samples: 0.7311\n",
      "f1_samples: 0.5893\n",
      "loss: 0.1976\n",
      "\n"
     ]
    },
    {
     "data": {
      "application/vnd.jupyter.widget-view+json": {
       "model_id": "b49f238ab7fc46df8ae8fd039cc5dea5",
       "version_major": 2,
       "version_minor": 0
      },
      "text/plain": [
       "Epoch 4 / 20:   0%|          | 0/1842 [00:00<?, ?it/s]"
      ]
     },
     "metadata": {},
     "output_type": "display_data"
    },
    {
     "name": "stderr",
     "output_type": "stream",
     "text": [
      "--- Train epoch-4, step-9210 ---\n",
      "loss: 0.1901\n",
      "Evaluation: 100%|█████████████████████████████████████████████████████████████| 233/233 [00:04<00:00, 54.78it/s]\n",
      "--- Eval epoch-4, step-9210 ---\n",
      "jaccard_samples: 0.4331\n",
      "accuracy: 0.0014\n",
      "hamming_loss: 0.0807\n",
      "precision_samples: 0.7579\n",
      "recall_samples: 0.5150\n",
      "pr_auc_samples: 0.7366\n",
      "f1_samples: 0.5856\n",
      "loss: 0.1964\n",
      "\n"
     ]
    },
    {
     "data": {
      "application/vnd.jupyter.widget-view+json": {
       "model_id": "77a8fcd34f7a42f5a64f250b6cb9f327",
       "version_major": 2,
       "version_minor": 0
      },
      "text/plain": [
       "Epoch 5 / 20:   0%|          | 0/1842 [00:00<?, ?it/s]"
      ]
     },
     "metadata": {},
     "output_type": "display_data"
    },
    {
     "name": "stderr",
     "output_type": "stream",
     "text": [
      "--- Train epoch-5, step-11052 ---\n",
      "loss: 0.1870\n",
      "Evaluation: 100%|█████████████████████████████████████████████████████████████| 233/233 [00:04<00:00, 54.93it/s]\n",
      "--- Eval epoch-5, step-11052 ---\n",
      "jaccard_samples: 0.4496\n",
      "accuracy: 0.0021\n",
      "hamming_loss: 0.0821\n",
      "precision_samples: 0.7216\n",
      "recall_samples: 0.5629\n",
      "pr_auc_samples: 0.7372\n",
      "f1_samples: 0.6013\n",
      "loss: 0.1969\n",
      "New best accuracy score (0.0021) at epoch-5, step-11052\n",
      "\n"
     ]
    },
    {
     "data": {
      "application/vnd.jupyter.widget-view+json": {
       "model_id": "140250f207c749eeb084f6e7ad7bfad8",
       "version_major": 2,
       "version_minor": 0
      },
      "text/plain": [
       "Epoch 6 / 20:   0%|          | 0/1842 [00:00<?, ?it/s]"
      ]
     },
     "metadata": {},
     "output_type": "display_data"
    },
    {
     "name": "stderr",
     "output_type": "stream",
     "text": [
      "--- Train epoch-6, step-12894 ---\n",
      "loss: 0.1841\n",
      "Evaluation: 100%|█████████████████████████████████████████████████████████████| 233/233 [00:04<00:00, 55.22it/s]\n",
      "--- Eval epoch-6, step-12894 ---\n",
      "jaccard_samples: 0.4501\n",
      "accuracy: 0.0015\n",
      "hamming_loss: 0.0820\n",
      "precision_samples: 0.7292\n",
      "recall_samples: 0.5602\n",
      "pr_auc_samples: 0.7389\n",
      "f1_samples: 0.6016\n",
      "loss: 0.1963\n",
      "\n"
     ]
    },
    {
     "data": {
      "application/vnd.jupyter.widget-view+json": {
       "model_id": "c27fa78ea9b54571bbdb9547f3de0a22",
       "version_major": 2,
       "version_minor": 0
      },
      "text/plain": [
       "Epoch 7 / 20:   0%|          | 0/1842 [00:00<?, ?it/s]"
      ]
     },
     "metadata": {},
     "output_type": "display_data"
    },
    {
     "name": "stderr",
     "output_type": "stream",
     "text": [
      "--- Train epoch-7, step-14736 ---\n",
      "loss: 0.1811\n",
      "Evaluation: 100%|█████████████████████████████████████████████████████████████| 233/233 [00:04<00:00, 54.70it/s]\n",
      "--- Eval epoch-7, step-14736 ---\n",
      "jaccard_samples: 0.4466\n",
      "accuracy: 0.0020\n",
      "hamming_loss: 0.0813\n",
      "precision_samples: 0.7416\n",
      "recall_samples: 0.5461\n",
      "pr_auc_samples: 0.7408\n",
      "f1_samples: 0.5985\n",
      "loss: 0.1961\n",
      "\n"
     ]
    },
    {
     "data": {
      "application/vnd.jupyter.widget-view+json": {
       "model_id": "38fb03044aa64b1baba15664f620ed46",
       "version_major": 2,
       "version_minor": 0
      },
      "text/plain": [
       "Epoch 8 / 20:   0%|          | 0/1842 [00:00<?, ?it/s]"
      ]
     },
     "metadata": {},
     "output_type": "display_data"
    },
    {
     "name": "stderr",
     "output_type": "stream",
     "text": [
      "--- Train epoch-8, step-16578 ---\n",
      "loss: 0.1778\n",
      "Evaluation: 100%|█████████████████████████████████████████████████████████████| 233/233 [00:04<00:00, 51.96it/s]\n",
      "--- Eval epoch-8, step-16578 ---\n",
      "jaccard_samples: 0.4434\n",
      "accuracy: 0.0013\n",
      "hamming_loss: 0.0814\n",
      "precision_samples: 0.7471\n",
      "recall_samples: 0.5393\n",
      "pr_auc_samples: 0.7410\n",
      "f1_samples: 0.5948\n",
      "loss: 0.1972\n",
      "\n"
     ]
    },
    {
     "data": {
      "application/vnd.jupyter.widget-view+json": {
       "model_id": "2c4cd9b4a09140c5acfc4018dea9e591",
       "version_major": 2,
       "version_minor": 0
      },
      "text/plain": [
       "Epoch 9 / 20:   0%|          | 0/1842 [00:00<?, ?it/s]"
      ]
     },
     "metadata": {},
     "output_type": "display_data"
    },
    {
     "name": "stderr",
     "output_type": "stream",
     "text": [
      "--- Train epoch-9, step-18420 ---\n",
      "loss: 0.1742\n",
      "Evaluation: 100%|█████████████████████████████████████████████████████████████| 233/233 [00:04<00:00, 55.49it/s]\n",
      "--- Eval epoch-9, step-18420 ---\n",
      "jaccard_samples: 0.4441\n",
      "accuracy: 0.0017\n",
      "hamming_loss: 0.0815\n",
      "precision_samples: 0.7467\n",
      "recall_samples: 0.5411\n",
      "pr_auc_samples: 0.7422\n",
      "f1_samples: 0.5955\n",
      "loss: 0.1982\n",
      "\n"
     ]
    },
    {
     "data": {
      "application/vnd.jupyter.widget-view+json": {
       "model_id": "6a3594161f514f3bbc6a9639be7a42ff",
       "version_major": 2,
       "version_minor": 0
      },
      "text/plain": [
       "Epoch 10 / 20:   0%|          | 0/1842 [00:00<?, ?it/s]"
      ]
     },
     "metadata": {},
     "output_type": "display_data"
    },
    {
     "name": "stderr",
     "output_type": "stream",
     "text": [
      "--- Train epoch-10, step-20262 ---\n",
      "loss: 0.1702\n",
      "Evaluation: 100%|█████████████████████████████████████████████████████████████| 233/233 [00:04<00:00, 55.19it/s]\n",
      "--- Eval epoch-10, step-20262 ---\n",
      "jaccard_samples: 0.4518\n",
      "accuracy: 0.0020\n",
      "hamming_loss: 0.0824\n",
      "precision_samples: 0.7292\n",
      "recall_samples: 0.5633\n",
      "pr_auc_samples: 0.7406\n",
      "f1_samples: 0.6033\n",
      "loss: 0.2014\n",
      "\n"
     ]
    },
    {
     "data": {
      "application/vnd.jupyter.widget-view+json": {
       "model_id": "b0c5ff6ebd9b4d7fa13c6f9ecc58841f",
       "version_major": 2,
       "version_minor": 0
      },
      "text/plain": [
       "Epoch 11 / 20:   0%|          | 0/1842 [00:00<?, ?it/s]"
      ]
     },
     "metadata": {},
     "output_type": "display_data"
    },
    {
     "name": "stderr",
     "output_type": "stream",
     "text": [
      "--- Train epoch-11, step-22104 ---\n",
      "loss: 0.1663\n",
      "Evaluation: 100%|█████████████████████████████████████████████████████████████| 233/233 [00:04<00:00, 55.00it/s]\n",
      "--- Eval epoch-11, step-22104 ---\n",
      "jaccard_samples: 0.4411\n",
      "accuracy: 0.0014\n",
      "hamming_loss: 0.0834\n",
      "precision_samples: 0.7437\n",
      "recall_samples: 0.5404\n",
      "pr_auc_samples: 0.7378\n",
      "f1_samples: 0.5914\n",
      "loss: 0.2041\n",
      "\n"
     ]
    },
    {
     "data": {
      "application/vnd.jupyter.widget-view+json": {
       "model_id": "a71a10a0cbdf4ec89db5a005fa6b177a",
       "version_major": 2,
       "version_minor": 0
      },
      "text/plain": [
       "Epoch 12 / 20:   0%|          | 0/1842 [00:00<?, ?it/s]"
      ]
     },
     "metadata": {},
     "output_type": "display_data"
    },
    {
     "name": "stderr",
     "output_type": "stream",
     "text": [
      "--- Train epoch-12, step-23946 ---\n",
      "loss: 0.1628\n",
      "Evaluation: 100%|█████████████████████████████████████████████████████████████| 233/233 [00:04<00:00, 55.60it/s]\n",
      "--- Eval epoch-12, step-23946 ---\n",
      "jaccard_samples: 0.4445\n",
      "accuracy: 0.0017\n",
      "hamming_loss: 0.0845\n",
      "precision_samples: 0.7306\n",
      "recall_samples: 0.5543\n",
      "pr_auc_samples: 0.7365\n",
      "f1_samples: 0.5948\n",
      "loss: 0.2087\n",
      "\n"
     ]
    },
    {
     "data": {
      "application/vnd.jupyter.widget-view+json": {
       "model_id": "8463f16f06f2443cb4358759625619b2",
       "version_major": 2,
       "version_minor": 0
      },
      "text/plain": [
       "Epoch 13 / 20:   0%|          | 0/1842 [00:00<?, ?it/s]"
      ]
     },
     "metadata": {},
     "output_type": "display_data"
    },
    {
     "name": "stderr",
     "output_type": "stream",
     "text": [
      "--- Train epoch-13, step-25788 ---\n",
      "loss: 0.1598\n",
      "Evaluation: 100%|█████████████████████████████████████████████████████████████| 233/233 [00:04<00:00, 55.31it/s]\n",
      "--- Eval epoch-13, step-25788 ---\n",
      "jaccard_samples: 0.4423\n",
      "accuracy: 0.0009\n",
      "hamming_loss: 0.0857\n",
      "precision_samples: 0.7311\n",
      "recall_samples: 0.5525\n",
      "pr_auc_samples: 0.7341\n",
      "f1_samples: 0.5921\n",
      "loss: 0.2126\n",
      "\n"
     ]
    },
    {
     "data": {
      "application/vnd.jupyter.widget-view+json": {
       "model_id": "c31b4a82e7e9499bb7c0b25986bda9f2",
       "version_major": 2,
       "version_minor": 0
      },
      "text/plain": [
       "Epoch 14 / 20:   0%|          | 0/1842 [00:00<?, ?it/s]"
      ]
     },
     "metadata": {},
     "output_type": "display_data"
    },
    {
     "name": "stderr",
     "output_type": "stream",
     "text": [
      "--- Train epoch-14, step-27630 ---\n",
      "loss: 0.1572\n",
      "Evaluation: 100%|█████████████████████████████████████████████████████████████| 233/233 [00:04<00:00, 55.19it/s]\n",
      "/home/ram/code/school/dl4h/final/submit/GAMENet/pyhealth/.v2/lib/python3.8/site-packages/sklearn/metrics/_classification.py:1344: UndefinedMetricWarning: Precision is ill-defined and being set to 0.0 in samples with no predicted labels. Use `zero_division` parameter to control this behavior.\n",
      "  _warn_prf(average, modifier, msg_start, len(result))\n",
      "--- Eval epoch-14, step-27630 ---\n",
      "jaccard_samples: 0.4443\n",
      "accuracy: 0.0015\n",
      "hamming_loss: 0.0843\n",
      "precision_samples: 0.7382\n",
      "recall_samples: 0.5490\n",
      "pr_auc_samples: 0.7361\n",
      "f1_samples: 0.5945\n",
      "loss: 0.2144\n",
      "\n"
     ]
    },
    {
     "data": {
      "application/vnd.jupyter.widget-view+json": {
       "model_id": "06f83b5d0057410da4a2f7b7de786e95",
       "version_major": 2,
       "version_minor": 0
      },
      "text/plain": [
       "Epoch 15 / 20:   0%|          | 0/1842 [00:00<?, ?it/s]"
      ]
     },
     "metadata": {},
     "output_type": "display_data"
    },
    {
     "name": "stderr",
     "output_type": "stream",
     "text": [
      "--- Train epoch-15, step-29472 ---\n",
      "loss: 0.1551\n",
      "Evaluation: 100%|█████████████████████████████████████████████████████████████| 233/233 [00:04<00:00, 54.43it/s]\n",
      "--- Eval epoch-15, step-29472 ---\n",
      "jaccard_samples: 0.4475\n",
      "accuracy: 0.0010\n",
      "hamming_loss: 0.0870\n",
      "precision_samples: 0.7188\n",
      "recall_samples: 0.5699\n",
      "pr_auc_samples: 0.7312\n",
      "f1_samples: 0.5973\n",
      "loss: 0.2198\n",
      "\n"
     ]
    },
    {
     "data": {
      "application/vnd.jupyter.widget-view+json": {
       "model_id": "d2b265f4dc2c4ac09c0e371df545dfb3",
       "version_major": 2,
       "version_minor": 0
      },
      "text/plain": [
       "Epoch 16 / 20:   0%|          | 0/1842 [00:00<?, ?it/s]"
      ]
     },
     "metadata": {},
     "output_type": "display_data"
    },
    {
     "name": "stderr",
     "output_type": "stream",
     "text": [
      "--- Train epoch-16, step-31314 ---\n",
      "loss: 0.1532\n",
      "Evaluation: 100%|█████████████████████████████████████████████████████████████| 233/233 [00:04<00:00, 55.55it/s]\n",
      "/home/ram/code/school/dl4h/final/submit/GAMENet/pyhealth/.v2/lib/python3.8/site-packages/sklearn/metrics/_classification.py:1344: UndefinedMetricWarning: Precision is ill-defined and being set to 0.0 in samples with no predicted labels. Use `zero_division` parameter to control this behavior.\n",
      "  _warn_prf(average, modifier, msg_start, len(result))\n",
      "--- Eval epoch-16, step-31314 ---\n",
      "jaccard_samples: 0.4376\n",
      "accuracy: 0.0010\n",
      "hamming_loss: 0.0849\n",
      "precision_samples: 0.7482\n",
      "recall_samples: 0.5352\n",
      "pr_auc_samples: 0.7336\n",
      "f1_samples: 0.5874\n",
      "loss: 0.2205\n",
      "\n"
     ]
    },
    {
     "data": {
      "application/vnd.jupyter.widget-view+json": {
       "model_id": "f645a9522bec4d1a876ae88dd8000852",
       "version_major": 2,
       "version_minor": 0
      },
      "text/plain": [
       "Epoch 17 / 20:   0%|          | 0/1842 [00:00<?, ?it/s]"
      ]
     },
     "metadata": {},
     "output_type": "display_data"
    },
    {
     "name": "stderr",
     "output_type": "stream",
     "text": [
      "--- Train epoch-17, step-33156 ---\n",
      "loss: 0.1519\n",
      "Evaluation: 100%|█████████████████████████████████████████████████████████████| 233/233 [00:04<00:00, 55.16it/s]\n",
      "--- Eval epoch-17, step-33156 ---\n",
      "jaccard_samples: 0.4429\n",
      "accuracy: 0.0013\n",
      "hamming_loss: 0.0855\n",
      "precision_samples: 0.7331\n",
      "recall_samples: 0.5511\n",
      "pr_auc_samples: 0.7339\n",
      "f1_samples: 0.5933\n",
      "loss: 0.2177\n",
      "\n"
     ]
    },
    {
     "data": {
      "application/vnd.jupyter.widget-view+json": {
       "model_id": "d22bbc9fd458424abd5116867cc3ad9a",
       "version_major": 2,
       "version_minor": 0
      },
      "text/plain": [
       "Epoch 18 / 20:   0%|          | 0/1842 [00:00<?, ?it/s]"
      ]
     },
     "metadata": {},
     "output_type": "display_data"
    },
    {
     "name": "stderr",
     "output_type": "stream",
     "text": [
      "--- Train epoch-18, step-34998 ---\n",
      "loss: 0.1505\n",
      "Evaluation: 100%|█████████████████████████████████████████████████████████████| 233/233 [00:04<00:00, 55.99it/s]\n",
      "--- Eval epoch-18, step-34998 ---\n",
      "jaccard_samples: 0.4416\n",
      "accuracy: 0.0015\n",
      "hamming_loss: 0.0854\n",
      "precision_samples: 0.7392\n",
      "recall_samples: 0.5460\n",
      "pr_auc_samples: 0.7316\n",
      "f1_samples: 0.5912\n",
      "loss: 0.2247\n",
      "\n"
     ]
    },
    {
     "data": {
      "application/vnd.jupyter.widget-view+json": {
       "model_id": "af8e501e34c04dcf916611a2b5f65e8c",
       "version_major": 2,
       "version_minor": 0
      },
      "text/plain": [
       "Epoch 19 / 20:   0%|          | 0/1842 [00:00<?, ?it/s]"
      ]
     },
     "metadata": {},
     "output_type": "display_data"
    },
    {
     "name": "stderr",
     "output_type": "stream",
     "text": [
      "--- Train epoch-19, step-36840 ---\n",
      "loss: 0.1497\n",
      "Evaluation: 100%|█████████████████████████████████████████████████████████████| 233/233 [00:04<00:00, 55.02it/s]\n",
      "--- Eval epoch-19, step-36840 ---\n",
      "jaccard_samples: 0.4406\n",
      "accuracy: 0.0011\n",
      "hamming_loss: 0.0875\n",
      "precision_samples: 0.7292\n",
      "recall_samples: 0.5532\n",
      "pr_auc_samples: 0.7305\n",
      "f1_samples: 0.5905\n",
      "loss: 0.2253\n",
      "Loaded best model\n"
     ]
    },
    {
     "name": "stdout",
     "output_type": "stream",
     "text": [
      "--training gamenet on no_hist data--\n",
      "making gamenet model without hist...\n"
     ]
    },
    {
     "name": "stderr",
     "output_type": "stream",
     "text": [
      "GAMENetNoHist(\n",
      "  (embeddings): ModuleDict(\n",
      "    (conditions): Embedding(19186, 128, padding_idx=0)\n",
      "    (procedures): Embedding(10605, 128, padding_idx=0)\n",
      "  )\n",
      "  (cond_rnn): GRU(128, 128, batch_first=True)\n",
      "  (proc_rnn): GRU(128, 128, batch_first=True)\n",
      "  (query): Sequential(\n",
      "    (0): ReLU()\n",
      "    (1): Linear(in_features=256, out_features=128, bias=True)\n",
      "  )\n",
      "  (gamenet): GAMENetLayerNoDM(\n",
      "    (ehr_gcn): GCN(\n",
      "      (gcn1): GCNLayer()\n",
      "      (dropout_layer): Dropout(p=0.5, inplace=False)\n",
      "      (gcn2): GCNLayer()\n",
      "    )\n",
      "    (ddi_gcn): GCN(\n",
      "      (gcn1): GCNLayer()\n",
      "      (dropout_layer): Dropout(p=0.5, inplace=False)\n",
      "      (gcn2): GCNLayer()\n",
      "    )\n",
      "    (fc): Linear(in_features=256, out_features=200, bias=True)\n",
      "    (bce_loss_fn): BCEWithLogitsLoss()\n",
      "  )\n",
      ")\n",
      "Metrics: ['jaccard_samples', 'accuracy', 'hamming_loss', 'precision_samples', 'recall_samples', 'pr_auc_samples', 'f1_samples']\n",
      "Device: cuda\n",
      "\n",
      "Training:\n",
      "Batch size: 64\n",
      "Optimizer: <class 'torch.optim.adam.Adam'>\n",
      "Optimizer params: {'lr': 0.001}\n",
      "Weight decay: 1e-05\n",
      "Max grad norm: None\n",
      "Val dataloader: <torch.utils.data.dataloader.DataLoader object at 0x7f966046e970>\n",
      "Monitor: accuracy\n",
      "Monitor criterion: max\n",
      "Epochs: 20\n",
      "\n"
     ]
    },
    {
     "data": {
      "application/vnd.jupyter.widget-view+json": {
       "model_id": "84c14a34269e453f8c69a98e58a95219",
       "version_major": 2,
       "version_minor": 0
      },
      "text/plain": [
       "Epoch 0 / 20:   0%|          | 0/1838 [00:00<?, ?it/s]"
      ]
     },
     "metadata": {},
     "output_type": "display_data"
    },
    {
     "name": "stderr",
     "output_type": "stream",
     "text": [
      "--- Train epoch-0, step-1838 ---\n",
      "loss: 0.2189\n",
      "Evaluation: 100%|████████████████████████████████████████████████████████████| 234/234 [00:01<00:00, 232.25it/s]\n",
      "--- Eval epoch-0, step-1838 ---\n",
      "jaccard_samples: 0.4149\n",
      "accuracy: 0.0013\n",
      "hamming_loss: 0.0833\n",
      "precision_samples: 0.7417\n",
      "recall_samples: 0.4980\n",
      "pr_auc_samples: 0.7147\n",
      "f1_samples: 0.5675\n",
      "loss: 0.2023\n",
      "New best accuracy score (0.0013) at epoch-0, step-1838\n",
      "\n"
     ]
    },
    {
     "data": {
      "application/vnd.jupyter.widget-view+json": {
       "model_id": "b463070c07044b7a940d2a4d0b44d078",
       "version_major": 2,
       "version_minor": 0
      },
      "text/plain": [
       "Epoch 1 / 20:   0%|          | 0/1838 [00:00<?, ?it/s]"
      ]
     },
     "metadata": {},
     "output_type": "display_data"
    },
    {
     "name": "stderr",
     "output_type": "stream",
     "text": [
      "--- Train epoch-1, step-3676 ---\n",
      "loss: 0.1961\n",
      "Evaluation: 100%|████████████████████████████████████████████████████████████| 234/234 [00:00<00:00, 254.04it/s]\n",
      "--- Eval epoch-1, step-3676 ---\n",
      "jaccard_samples: 0.4349\n",
      "accuracy: 0.0017\n",
      "hamming_loss: 0.0800\n",
      "precision_samples: 0.7604\n",
      "recall_samples: 0.5163\n",
      "pr_auc_samples: 0.7377\n",
      "f1_samples: 0.5868\n",
      "loss: 0.1941\n",
      "New best accuracy score (0.0017) at epoch-1, step-3676\n",
      "\n"
     ]
    },
    {
     "data": {
      "application/vnd.jupyter.widget-view+json": {
       "model_id": "e436a7195cc64c22b2e00ccb6b9713c1",
       "version_major": 2,
       "version_minor": 0
      },
      "text/plain": [
       "Epoch 2 / 20:   0%|          | 0/1838 [00:00<?, ?it/s]"
      ]
     },
     "metadata": {},
     "output_type": "display_data"
    },
    {
     "name": "stderr",
     "output_type": "stream",
     "text": [
      "--- Train epoch-2, step-5514 ---\n",
      "loss: 0.1900\n",
      "Evaluation: 100%|████████████████████████████████████████████████████████████| 234/234 [00:00<00:00, 244.41it/s]\n",
      "/home/ram/code/school/dl4h/final/submit/GAMENet/pyhealth/.v2/lib/python3.8/site-packages/sklearn/metrics/_classification.py:1344: UndefinedMetricWarning: Precision is ill-defined and being set to 0.0 in samples with no predicted labels. Use `zero_division` parameter to control this behavior.\n",
      "  _warn_prf(average, modifier, msg_start, len(result))\n",
      "--- Eval epoch-2, step-5514 ---\n",
      "jaccard_samples: 0.4457\n",
      "accuracy: 0.0022\n",
      "hamming_loss: 0.0787\n",
      "precision_samples: 0.7621\n",
      "recall_samples: 0.5297\n",
      "pr_auc_samples: 0.7461\n",
      "f1_samples: 0.5974\n",
      "loss: 0.1913\n",
      "New best accuracy score (0.0022) at epoch-2, step-5514\n",
      "\n"
     ]
    },
    {
     "data": {
      "application/vnd.jupyter.widget-view+json": {
       "model_id": "979c67967a194021a7ad84e75a4ec0c6",
       "version_major": 2,
       "version_minor": 0
      },
      "text/plain": [
       "Epoch 3 / 20:   0%|          | 0/1838 [00:00<?, ?it/s]"
      ]
     },
     "metadata": {},
     "output_type": "display_data"
    },
    {
     "name": "stderr",
     "output_type": "stream",
     "text": [
      "--- Train epoch-3, step-7352 ---\n",
      "loss: 0.1865\n",
      "Evaluation: 100%|████████████████████████████████████████████████████████████| 234/234 [00:00<00:00, 253.52it/s]\n",
      "--- Eval epoch-3, step-7352 ---\n",
      "jaccard_samples: 0.4578\n",
      "accuracy: 0.0023\n",
      "hamming_loss: 0.0779\n",
      "precision_samples: 0.7534\n",
      "recall_samples: 0.5518\n",
      "pr_auc_samples: 0.7514\n",
      "f1_samples: 0.6097\n",
      "loss: 0.1894\n",
      "New best accuracy score (0.0023) at epoch-3, step-7352\n",
      "\n"
     ]
    },
    {
     "data": {
      "application/vnd.jupyter.widget-view+json": {
       "model_id": "7cdbb882923147028de6e8059d58e4c7",
       "version_major": 2,
       "version_minor": 0
      },
      "text/plain": [
       "Epoch 4 / 20:   0%|          | 0/1838 [00:00<?, ?it/s]"
      ]
     },
     "metadata": {},
     "output_type": "display_data"
    },
    {
     "name": "stderr",
     "output_type": "stream",
     "text": [
      "--- Train epoch-4, step-9190 ---\n",
      "loss: 0.1839\n",
      "Evaluation: 100%|████████████████████████████████████████████████████████████| 234/234 [00:00<00:00, 248.80it/s]\n",
      "/home/ram/code/school/dl4h/final/submit/GAMENet/pyhealth/.v2/lib/python3.8/site-packages/sklearn/metrics/_classification.py:1344: UndefinedMetricWarning: Precision is ill-defined and being set to 0.0 in samples with no predicted labels. Use `zero_division` parameter to control this behavior.\n",
      "  _warn_prf(average, modifier, msg_start, len(result))\n",
      "--- Eval epoch-4, step-9190 ---\n",
      "jaccard_samples: 0.4571\n",
      "accuracy: 0.0019\n",
      "hamming_loss: 0.0774\n",
      "precision_samples: 0.7640\n",
      "recall_samples: 0.5441\n",
      "pr_auc_samples: 0.7547\n",
      "f1_samples: 0.6084\n",
      "loss: 0.1887\n",
      "\n"
     ]
    },
    {
     "data": {
      "application/vnd.jupyter.widget-view+json": {
       "model_id": "536e88ed3f5d4b618b898cbe52e747d8",
       "version_major": 2,
       "version_minor": 0
      },
      "text/plain": [
       "Epoch 5 / 20:   0%|          | 0/1838 [00:00<?, ?it/s]"
      ]
     },
     "metadata": {},
     "output_type": "display_data"
    },
    {
     "name": "stderr",
     "output_type": "stream",
     "text": [
      "--- Train epoch-5, step-11028 ---\n",
      "loss: 0.1816\n",
      "Evaluation: 100%|████████████████████████████████████████████████████████████| 234/234 [00:00<00:00, 252.21it/s]\n",
      "--- Eval epoch-5, step-11028 ---\n",
      "jaccard_samples: 0.4589\n",
      "accuracy: 0.0022\n",
      "hamming_loss: 0.0777\n",
      "precision_samples: 0.7604\n",
      "recall_samples: 0.5501\n",
      "pr_auc_samples: 0.7554\n",
      "f1_samples: 0.6099\n",
      "loss: 0.1885\n",
      "\n"
     ]
    },
    {
     "data": {
      "application/vnd.jupyter.widget-view+json": {
       "model_id": "a27d087641bd4125bb2e3081e91eb903",
       "version_major": 2,
       "version_minor": 0
      },
      "text/plain": [
       "Epoch 6 / 20:   0%|          | 0/1838 [00:00<?, ?it/s]"
      ]
     },
     "metadata": {},
     "output_type": "display_data"
    },
    {
     "name": "stderr",
     "output_type": "stream",
     "text": [
      "--- Train epoch-6, step-12866 ---\n",
      "loss: 0.1788\n",
      "Evaluation: 100%|████████████████████████████████████████████████████████████| 234/234 [00:00<00:00, 257.72it/s]\n",
      "--- Eval epoch-6, step-12866 ---\n",
      "jaccard_samples: 0.4539\n",
      "accuracy: 0.0015\n",
      "hamming_loss: 0.0779\n",
      "precision_samples: 0.7718\n",
      "recall_samples: 0.5362\n",
      "pr_auc_samples: 0.7570\n",
      "f1_samples: 0.6052\n",
      "loss: 0.1894\n",
      "\n"
     ]
    },
    {
     "data": {
      "application/vnd.jupyter.widget-view+json": {
       "model_id": "25f15765033b4ee285c72852b96b2c53",
       "version_major": 2,
       "version_minor": 0
      },
      "text/plain": [
       "Epoch 7 / 20:   0%|          | 0/1838 [00:00<?, ?it/s]"
      ]
     },
     "metadata": {},
     "output_type": "display_data"
    },
    {
     "name": "stderr",
     "output_type": "stream",
     "text": [
      "--- Train epoch-7, step-14704 ---\n",
      "loss: 0.1755\n",
      "Evaluation: 100%|████████████████████████████████████████████████████████████| 234/234 [00:00<00:00, 252.26it/s]\n",
      "/home/ram/code/school/dl4h/final/submit/GAMENet/pyhealth/.v2/lib/python3.8/site-packages/sklearn/metrics/_classification.py:1344: UndefinedMetricWarning: Precision is ill-defined and being set to 0.0 in samples with no predicted labels. Use `zero_division` parameter to control this behavior.\n",
      "  _warn_prf(average, modifier, msg_start, len(result))\n",
      "--- Eval epoch-7, step-14704 ---\n",
      "jaccard_samples: 0.4607\n",
      "accuracy: 0.0024\n",
      "hamming_loss: 0.0786\n",
      "precision_samples: 0.7525\n",
      "recall_samples: 0.5602\n",
      "pr_auc_samples: 0.7552\n",
      "f1_samples: 0.6107\n",
      "loss: 0.1905\n",
      "New best accuracy score (0.0024) at epoch-7, step-14704\n",
      "\n"
     ]
    },
    {
     "data": {
      "application/vnd.jupyter.widget-view+json": {
       "model_id": "720c4b5c7a5948fb91781918c84b4ae8",
       "version_major": 2,
       "version_minor": 0
      },
      "text/plain": [
       "Epoch 8 / 20:   0%|          | 0/1838 [00:00<?, ?it/s]"
      ]
     },
     "metadata": {},
     "output_type": "display_data"
    },
    {
     "name": "stderr",
     "output_type": "stream",
     "text": [
      "--- Train epoch-8, step-16542 ---\n",
      "loss: 0.1708\n",
      "Evaluation: 100%|████████████████████████████████████████████████████████████| 234/234 [00:00<00:00, 250.70it/s]\n",
      "--- Eval epoch-8, step-16542 ---\n",
      "jaccard_samples: 0.4595\n",
      "accuracy: 0.0017\n",
      "hamming_loss: 0.0814\n",
      "precision_samples: 0.7399\n",
      "recall_samples: 0.5693\n",
      "pr_auc_samples: 0.7511\n",
      "f1_samples: 0.6090\n",
      "loss: 0.1953\n",
      "\n"
     ]
    },
    {
     "data": {
      "application/vnd.jupyter.widget-view+json": {
       "model_id": "cd6427057dcb4f88ba3f9e38223651b0",
       "version_major": 2,
       "version_minor": 0
      },
      "text/plain": [
       "Epoch 9 / 20:   0%|          | 0/1838 [00:00<?, ?it/s]"
      ]
     },
     "metadata": {},
     "output_type": "display_data"
    },
    {
     "name": "stderr",
     "output_type": "stream",
     "text": [
      "--- Train epoch-9, step-18380 ---\n",
      "loss: 0.1655\n",
      "Evaluation: 100%|████████████████████████████████████████████████████████████| 234/234 [00:00<00:00, 253.31it/s]\n",
      "/home/ram/code/school/dl4h/final/submit/GAMENet/pyhealth/.v2/lib/python3.8/site-packages/sklearn/metrics/_classification.py:1344: UndefinedMetricWarning: Precision is ill-defined and being set to 0.0 in samples with no predicted labels. Use `zero_division` parameter to control this behavior.\n",
      "  _warn_prf(average, modifier, msg_start, len(result))\n",
      "--- Eval epoch-9, step-18380 ---\n",
      "jaccard_samples: 0.4576\n",
      "accuracy: 0.0024\n",
      "hamming_loss: 0.0803\n",
      "precision_samples: 0.7515\n",
      "recall_samples: 0.5572\n",
      "pr_auc_samples: 0.7514\n",
      "f1_samples: 0.6078\n",
      "loss: 0.1981\n",
      "\n"
     ]
    },
    {
     "data": {
      "application/vnd.jupyter.widget-view+json": {
       "model_id": "1409456eca324a5da558bdface4060a3",
       "version_major": 2,
       "version_minor": 0
      },
      "text/plain": [
       "Epoch 10 / 20:   0%|          | 0/1838 [00:00<?, ?it/s]"
      ]
     },
     "metadata": {},
     "output_type": "display_data"
    },
    {
     "name": "stderr",
     "output_type": "stream",
     "text": [
      "--- Train epoch-10, step-20218 ---\n",
      "loss: 0.1602\n",
      "Evaluation: 100%|████████████████████████████████████████████████████████████| 234/234 [00:00<00:00, 250.04it/s]\n",
      "/home/ram/code/school/dl4h/final/submit/GAMENet/pyhealth/.v2/lib/python3.8/site-packages/sklearn/metrics/_classification.py:1344: UndefinedMetricWarning: Precision is ill-defined and being set to 0.0 in samples with no predicted labels. Use `zero_division` parameter to control this behavior.\n",
      "  _warn_prf(average, modifier, msg_start, len(result))\n",
      "--- Eval epoch-10, step-20218 ---\n",
      "jaccard_samples: 0.4608\n",
      "accuracy: 0.0021\n",
      "hamming_loss: 0.0808\n",
      "precision_samples: 0.7417\n",
      "recall_samples: 0.5687\n",
      "pr_auc_samples: 0.7494\n",
      "f1_samples: 0.6109\n",
      "loss: 0.2020\n",
      "\n"
     ]
    },
    {
     "data": {
      "application/vnd.jupyter.widget-view+json": {
       "model_id": "53c1cf33b2d04829a74fa5b0d9230ce5",
       "version_major": 2,
       "version_minor": 0
      },
      "text/plain": [
       "Epoch 11 / 20:   0%|          | 0/1838 [00:00<?, ?it/s]"
      ]
     },
     "metadata": {},
     "output_type": "display_data"
    },
    {
     "name": "stderr",
     "output_type": "stream",
     "text": [
      "--- Train epoch-11, step-22056 ---\n",
      "loss: 0.1560\n",
      "Evaluation: 100%|████████████████████████████████████████████████████████████| 234/234 [00:00<00:00, 246.51it/s]\n",
      "--- Eval epoch-11, step-22056 ---\n",
      "jaccard_samples: 0.4582\n",
      "accuracy: 0.0019\n",
      "hamming_loss: 0.0826\n",
      "precision_samples: 0.7383\n",
      "recall_samples: 0.5687\n",
      "pr_auc_samples: 0.7455\n",
      "f1_samples: 0.6079\n",
      "loss: 0.2085\n",
      "\n"
     ]
    },
    {
     "data": {
      "application/vnd.jupyter.widget-view+json": {
       "model_id": "c242ee6221304e6d942d7f526662ee3f",
       "version_major": 2,
       "version_minor": 0
      },
      "text/plain": [
       "Epoch 12 / 20:   0%|          | 0/1838 [00:00<?, ?it/s]"
      ]
     },
     "metadata": {},
     "output_type": "display_data"
    },
    {
     "name": "stderr",
     "output_type": "stream",
     "text": [
      "--- Train epoch-12, step-23894 ---\n",
      "loss: 0.1524\n",
      "Evaluation: 100%|████████████████████████████████████████████████████████████| 234/234 [00:00<00:00, 253.45it/s]\n",
      "/home/ram/code/school/dl4h/final/submit/GAMENet/pyhealth/.v2/lib/python3.8/site-packages/sklearn/metrics/_classification.py:1344: UndefinedMetricWarning: Precision is ill-defined and being set to 0.0 in samples with no predicted labels. Use `zero_division` parameter to control this behavior.\n",
      "  _warn_prf(average, modifier, msg_start, len(result))\n",
      "--- Eval epoch-12, step-23894 ---\n",
      "jaccard_samples: 0.4502\n",
      "accuracy: 0.0022\n",
      "hamming_loss: 0.0811\n",
      "precision_samples: 0.7584\n",
      "recall_samples: 0.5443\n",
      "pr_auc_samples: 0.7464\n",
      "f1_samples: 0.5998\n",
      "loss: 0.2137\n",
      "\n"
     ]
    },
    {
     "data": {
      "application/vnd.jupyter.widget-view+json": {
       "model_id": "e8f184c2069e425987e8c5adca42de52",
       "version_major": 2,
       "version_minor": 0
      },
      "text/plain": [
       "Epoch 13 / 20:   0%|          | 0/1838 [00:00<?, ?it/s]"
      ]
     },
     "metadata": {},
     "output_type": "display_data"
    },
    {
     "name": "stderr",
     "output_type": "stream",
     "text": [
      "--- Train epoch-13, step-25732 ---\n",
      "loss: 0.1500\n",
      "Evaluation: 100%|████████████████████████████████████████████████████████████| 234/234 [00:00<00:00, 253.49it/s]\n",
      "/home/ram/code/school/dl4h/final/submit/GAMENet/pyhealth/.v2/lib/python3.8/site-packages/sklearn/metrics/_classification.py:1344: UndefinedMetricWarning: Precision is ill-defined and being set to 0.0 in samples with no predicted labels. Use `zero_division` parameter to control this behavior.\n",
      "  _warn_prf(average, modifier, msg_start, len(result))\n",
      "--- Eval epoch-13, step-25732 ---\n",
      "jaccard_samples: 0.4529\n",
      "accuracy: 0.0023\n",
      "hamming_loss: 0.0820\n",
      "precision_samples: 0.7474\n",
      "recall_samples: 0.5557\n",
      "pr_auc_samples: 0.7444\n",
      "f1_samples: 0.6026\n",
      "loss: 0.2156\n",
      "\n"
     ]
    },
    {
     "data": {
      "application/vnd.jupyter.widget-view+json": {
       "model_id": "9f9b0b925aeb46e28d0d8ec263459adb",
       "version_major": 2,
       "version_minor": 0
      },
      "text/plain": [
       "Epoch 14 / 20:   0%|          | 0/1838 [00:00<?, ?it/s]"
      ]
     },
     "metadata": {},
     "output_type": "display_data"
    },
    {
     "name": "stderr",
     "output_type": "stream",
     "text": [
      "--- Train epoch-14, step-27570 ---\n",
      "loss: 0.1484\n",
      "Evaluation: 100%|████████████████████████████████████████████████████████████| 234/234 [00:00<00:00, 253.30it/s]\n",
      "/home/ram/code/school/dl4h/final/submit/GAMENet/pyhealth/.v2/lib/python3.8/site-packages/sklearn/metrics/_classification.py:1344: UndefinedMetricWarning: Precision is ill-defined and being set to 0.0 in samples with no predicted labels. Use `zero_division` parameter to control this behavior.\n",
      "  _warn_prf(average, modifier, msg_start, len(result))\n",
      "--- Eval epoch-14, step-27570 ---\n",
      "jaccard_samples: 0.4567\n",
      "accuracy: 0.0023\n",
      "hamming_loss: 0.0826\n",
      "precision_samples: 0.7380\n",
      "recall_samples: 0.5670\n",
      "pr_auc_samples: 0.7433\n",
      "f1_samples: 0.6066\n",
      "loss: 0.2198\n",
      "\n"
     ]
    },
    {
     "data": {
      "application/vnd.jupyter.widget-view+json": {
       "model_id": "c6667e6f23314f09a240f87e5ba59328",
       "version_major": 2,
       "version_minor": 0
      },
      "text/plain": [
       "Epoch 15 / 20:   0%|          | 0/1838 [00:00<?, ?it/s]"
      ]
     },
     "metadata": {},
     "output_type": "display_data"
    },
    {
     "name": "stderr",
     "output_type": "stream",
     "text": [
      "--- Train epoch-15, step-29408 ---\n",
      "loss: 0.1466\n",
      "Evaluation: 100%|████████████████████████████████████████████████████████████| 234/234 [00:00<00:00, 250.98it/s]\n",
      "/home/ram/code/school/dl4h/final/submit/GAMENet/pyhealth/.v2/lib/python3.8/site-packages/sklearn/metrics/_classification.py:1344: UndefinedMetricWarning: Precision is ill-defined and being set to 0.0 in samples with no predicted labels. Use `zero_division` parameter to control this behavior.\n",
      "  _warn_prf(average, modifier, msg_start, len(result))\n",
      "--- Eval epoch-15, step-29408 ---\n",
      "jaccard_samples: 0.4569\n",
      "accuracy: 0.0021\n",
      "hamming_loss: 0.0822\n",
      "precision_samples: 0.7406\n",
      "recall_samples: 0.5655\n",
      "pr_auc_samples: 0.7433\n",
      "f1_samples: 0.6068\n",
      "loss: 0.2210\n",
      "\n"
     ]
    },
    {
     "data": {
      "application/vnd.jupyter.widget-view+json": {
       "model_id": "b1b48b7847d5490893600fedad99c5a4",
       "version_major": 2,
       "version_minor": 0
      },
      "text/plain": [
       "Epoch 16 / 20:   0%|          | 0/1838 [00:00<?, ?it/s]"
      ]
     },
     "metadata": {},
     "output_type": "display_data"
    },
    {
     "name": "stderr",
     "output_type": "stream",
     "text": [
      "--- Train epoch-16, step-31246 ---\n",
      "loss: 0.1455\n",
      "Evaluation: 100%|████████████████████████████████████████████████████████████| 234/234 [00:00<00:00, 251.88it/s]\n",
      "/home/ram/code/school/dl4h/final/submit/GAMENet/pyhealth/.v2/lib/python3.8/site-packages/sklearn/metrics/_classification.py:1344: UndefinedMetricWarning: Precision is ill-defined and being set to 0.0 in samples with no predicted labels. Use `zero_division` parameter to control this behavior.\n",
      "  _warn_prf(average, modifier, msg_start, len(result))\n",
      "--- Eval epoch-16, step-31246 ---\n",
      "jaccard_samples: 0.4549\n",
      "accuracy: 0.0023\n",
      "hamming_loss: 0.0814\n",
      "precision_samples: 0.7480\n",
      "recall_samples: 0.5572\n",
      "pr_auc_samples: 0.7440\n",
      "f1_samples: 0.6050\n",
      "loss: 0.2230\n",
      "\n"
     ]
    },
    {
     "data": {
      "application/vnd.jupyter.widget-view+json": {
       "model_id": "38cf79bb524b4b9a9042ec7e9c4a9510",
       "version_major": 2,
       "version_minor": 0
      },
      "text/plain": [
       "Epoch 17 / 20:   0%|          | 0/1838 [00:00<?, ?it/s]"
      ]
     },
     "metadata": {},
     "output_type": "display_data"
    },
    {
     "name": "stderr",
     "output_type": "stream",
     "text": [
      "--- Train epoch-17, step-33084 ---\n",
      "loss: 0.1448\n",
      "Evaluation: 100%|████████████████████████████████████████████████████████████| 234/234 [00:00<00:00, 249.50it/s]\n",
      "/home/ram/code/school/dl4h/final/submit/GAMENet/pyhealth/.v2/lib/python3.8/site-packages/sklearn/metrics/_classification.py:1344: UndefinedMetricWarning: Precision is ill-defined and being set to 0.0 in samples with no predicted labels. Use `zero_division` parameter to control this behavior.\n",
      "  _warn_prf(average, modifier, msg_start, len(result))\n",
      "--- Eval epoch-17, step-33084 ---\n",
      "jaccard_samples: 0.4523\n",
      "accuracy: 0.0025\n",
      "hamming_loss: 0.0819\n",
      "precision_samples: 0.7523\n",
      "recall_samples: 0.5523\n",
      "pr_auc_samples: 0.7426\n",
      "f1_samples: 0.6020\n",
      "loss: 0.2236\n",
      "New best accuracy score (0.0025) at epoch-17, step-33084\n",
      "\n"
     ]
    },
    {
     "data": {
      "application/vnd.jupyter.widget-view+json": {
       "model_id": "e9a27003b06245eeaa83b3d93d8b7500",
       "version_major": 2,
       "version_minor": 0
      },
      "text/plain": [
       "Epoch 18 / 20:   0%|          | 0/1838 [00:00<?, ?it/s]"
      ]
     },
     "metadata": {},
     "output_type": "display_data"
    },
    {
     "name": "stderr",
     "output_type": "stream",
     "text": [
      "--- Train epoch-18, step-34922 ---\n",
      "loss: 0.1440\n",
      "Evaluation: 100%|████████████████████████████████████████████████████████████| 234/234 [00:00<00:00, 256.04it/s]\n",
      "/home/ram/code/school/dl4h/final/submit/GAMENet/pyhealth/.v2/lib/python3.8/site-packages/sklearn/metrics/_classification.py:1344: UndefinedMetricWarning: Precision is ill-defined and being set to 0.0 in samples with no predicted labels. Use `zero_division` parameter to control this behavior.\n",
      "  _warn_prf(average, modifier, msg_start, len(result))\n",
      "--- Eval epoch-18, step-34922 ---\n",
      "jaccard_samples: 0.4559\n",
      "accuracy: 0.0024\n",
      "hamming_loss: 0.0847\n",
      "precision_samples: 0.7281\n",
      "recall_samples: 0.5747\n",
      "pr_auc_samples: 0.7388\n",
      "f1_samples: 0.6053\n",
      "loss: 0.2251\n",
      "\n"
     ]
    },
    {
     "data": {
      "application/vnd.jupyter.widget-view+json": {
       "model_id": "ba636b49471c41b5a0bb488f65d3dc6c",
       "version_major": 2,
       "version_minor": 0
      },
      "text/plain": [
       "Epoch 19 / 20:   0%|          | 0/1838 [00:00<?, ?it/s]"
      ]
     },
     "metadata": {},
     "output_type": "display_data"
    },
    {
     "name": "stderr",
     "output_type": "stream",
     "text": [
      "--- Train epoch-19, step-36760 ---\n",
      "loss: 0.1431\n",
      "Evaluation: 100%|████████████████████████████████████████████████████████████| 234/234 [00:00<00:00, 252.19it/s]\n",
      "/home/ram/code/school/dl4h/final/submit/GAMENet/pyhealth/.v2/lib/python3.8/site-packages/sklearn/metrics/_classification.py:1344: UndefinedMetricWarning: Precision is ill-defined and being set to 0.0 in samples with no predicted labels. Use `zero_division` parameter to control this behavior.\n",
      "  _warn_prf(average, modifier, msg_start, len(result))\n",
      "--- Eval epoch-19, step-36760 ---\n",
      "jaccard_samples: 0.4559\n",
      "accuracy: 0.0021\n",
      "hamming_loss: 0.0838\n",
      "precision_samples: 0.7351\n",
      "recall_samples: 0.5692\n",
      "pr_auc_samples: 0.7400\n",
      "f1_samples: 0.6052\n",
      "loss: 0.2247\n",
      "Loaded best model\n"
     ]
    },
    {
     "name": "stdout",
     "output_type": "stream",
     "text": [
      "--training gamenet on no_proc data--\n",
      "making gamenet model without procedures...\n"
     ]
    },
    {
     "name": "stderr",
     "output_type": "stream",
     "text": [
      "GAMENetNoProc(\n",
      "  (embeddings): ModuleDict(\n",
      "    (conditions): Embedding(22643, 128, padding_idx=0)\n",
      "  )\n",
      "  (cond_rnn): GRU(128, 128, batch_first=True)\n",
      "  (query): Sequential(\n",
      "    (0): ReLU()\n",
      "    (1): Linear(in_features=128, out_features=128, bias=True)\n",
      "  )\n",
      "  (gamenet): GAMENetLayer(\n",
      "    (ehr_gcn): GCN(\n",
      "      (gcn1): GCNLayer()\n",
      "      (dropout_layer): Dropout(p=0.5, inplace=False)\n",
      "      (gcn2): GCNLayer()\n",
      "    )\n",
      "    (ddi_gcn): GCN(\n",
      "      (gcn1): GCNLayer()\n",
      "      (dropout_layer): Dropout(p=0.5, inplace=False)\n",
      "      (gcn2): GCNLayer()\n",
      "    )\n",
      "    (fc): Linear(in_features=384, out_features=201, bias=True)\n",
      "    (bce_loss_fn): BCEWithLogitsLoss()\n",
      "  )\n",
      ")\n",
      "Metrics: ['jaccard_samples', 'accuracy', 'hamming_loss', 'precision_samples', 'recall_samples', 'pr_auc_samples', 'f1_samples']\n",
      "Device: cuda\n",
      "\n",
      "Training:\n",
      "Batch size: 64\n",
      "Optimizer: <class 'torch.optim.adam.Adam'>\n",
      "Optimizer params: {'lr': 0.001}\n",
      "Weight decay: 1e-05\n",
      "Max grad norm: None\n",
      "Val dataloader: <torch.utils.data.dataloader.DataLoader object at 0x7f9660473100>\n",
      "Monitor: accuracy\n",
      "Monitor criterion: max\n",
      "Epochs: 20\n",
      "\n"
     ]
    },
    {
     "data": {
      "application/vnd.jupyter.widget-view+json": {
       "model_id": "d1ce16d49bf1413486d3f874b8a55873",
       "version_major": 2,
       "version_minor": 0
      },
      "text/plain": [
       "Epoch 0 / 20:   0%|          | 0/3437 [00:00<?, ?it/s]"
      ]
     },
     "metadata": {},
     "output_type": "display_data"
    },
    {
     "name": "stderr",
     "output_type": "stream",
     "text": [
      "--- Train epoch-0, step-3437 ---\n",
      "loss: 0.2143\n",
      "Evaluation: 100%|█████████████████████████████████████████████████████████████| 435/435 [00:07<00:00, 60.90it/s]\n",
      "--- Eval epoch-0, step-3437 ---\n",
      "jaccard_samples: 0.3791\n",
      "accuracy: 0.0005\n",
      "hamming_loss: 0.0811\n",
      "precision_samples: 0.6974\n",
      "recall_samples: 0.4749\n",
      "pr_auc_samples: 0.6706\n",
      "f1_samples: 0.5333\n",
      "loss: 0.2006\n",
      "New best accuracy score (0.0005) at epoch-0, step-3437\n",
      "\n"
     ]
    },
    {
     "data": {
      "application/vnd.jupyter.widget-view+json": {
       "model_id": "4cb404c7028248e3a8b6fa3bbdaff320",
       "version_major": 2,
       "version_minor": 0
      },
      "text/plain": [
       "Epoch 1 / 20:   0%|          | 0/3437 [00:00<?, ?it/s]"
      ]
     },
     "metadata": {},
     "output_type": "display_data"
    },
    {
     "name": "stderr",
     "output_type": "stream",
     "text": [
      "--- Train epoch-1, step-6874 ---\n",
      "loss: 0.1919\n",
      "Evaluation: 100%|█████████████████████████████████████████████████████████████| 435/435 [00:07<00:00, 60.40it/s]\n",
      "--- Eval epoch-1, step-6874 ---\n",
      "jaccard_samples: 0.3977\n",
      "accuracy: 0.0005\n",
      "hamming_loss: 0.0780\n",
      "precision_samples: 0.7236\n",
      "recall_samples: 0.4890\n",
      "pr_auc_samples: 0.6969\n",
      "f1_samples: 0.5515\n",
      "loss: 0.1922\n",
      "New best accuracy score (0.0005) at epoch-1, step-6874\n",
      "\n"
     ]
    },
    {
     "data": {
      "application/vnd.jupyter.widget-view+json": {
       "model_id": "00f59ffa002a4c6c9c9eedc2917c117e",
       "version_major": 2,
       "version_minor": 0
      },
      "text/plain": [
       "Epoch 2 / 20:   0%|          | 0/3437 [00:00<?, ?it/s]"
      ]
     },
     "metadata": {},
     "output_type": "display_data"
    },
    {
     "name": "stderr",
     "output_type": "stream",
     "text": [
      "--- Train epoch-2, step-10311 ---\n",
      "loss: 0.1862\n",
      "Evaluation: 100%|█████████████████████████████████████████████████████████████| 435/435 [00:07<00:00, 62.10it/s]\n",
      "--- Eval epoch-2, step-10311 ---\n",
      "jaccard_samples: 0.4051\n",
      "accuracy: 0.0011\n",
      "hamming_loss: 0.0768\n",
      "precision_samples: 0.7309\n",
      "recall_samples: 0.4949\n",
      "pr_auc_samples: 0.7057\n",
      "f1_samples: 0.5587\n",
      "loss: 0.1893\n",
      "New best accuracy score (0.0011) at epoch-2, step-10311\n",
      "\n"
     ]
    },
    {
     "data": {
      "application/vnd.jupyter.widget-view+json": {
       "model_id": "687cd6cc898b4652b896ed2c58bb8ccc",
       "version_major": 2,
       "version_minor": 0
      },
      "text/plain": [
       "Epoch 3 / 20:   0%|          | 0/3437 [00:00<?, ?it/s]"
      ]
     },
     "metadata": {},
     "output_type": "display_data"
    },
    {
     "name": "stderr",
     "output_type": "stream",
     "text": [
      "--- Train epoch-3, step-13748 ---\n",
      "loss: 0.1835\n",
      "Evaluation: 100%|█████████████████████████████████████████████████████████████| 435/435 [00:06<00:00, 62.69it/s]\n",
      "--- Eval epoch-3, step-13748 ---\n",
      "jaccard_samples: 0.4131\n",
      "accuracy: 0.0011\n",
      "hamming_loss: 0.0764\n",
      "precision_samples: 0.7263\n",
      "recall_samples: 0.5094\n",
      "pr_auc_samples: 0.7110\n",
      "f1_samples: 0.5672\n",
      "loss: 0.1878\n",
      "New best accuracy score (0.0011) at epoch-3, step-13748\n",
      "\n"
     ]
    },
    {
     "data": {
      "application/vnd.jupyter.widget-view+json": {
       "model_id": "d77d2c7d49d04d4da31a1e7e9da21103",
       "version_major": 2,
       "version_minor": 0
      },
      "text/plain": [
       "Epoch 4 / 20:   0%|          | 0/3437 [00:00<?, ?it/s]"
      ]
     },
     "metadata": {},
     "output_type": "display_data"
    },
    {
     "name": "stderr",
     "output_type": "stream",
     "text": [
      "--- Train epoch-4, step-17185 ---\n",
      "loss: 0.1817\n",
      "Evaluation: 100%|█████████████████████████████████████████████████████████████| 435/435 [00:07<00:00, 61.57it/s]\n",
      "--- Eval epoch-4, step-17185 ---\n",
      "jaccard_samples: 0.4143\n",
      "accuracy: 0.0009\n",
      "hamming_loss: 0.0759\n",
      "precision_samples: 0.7332\n",
      "recall_samples: 0.5074\n",
      "pr_auc_samples: 0.7147\n",
      "f1_samples: 0.5678\n",
      "loss: 0.1867\n",
      "\n"
     ]
    },
    {
     "data": {
      "application/vnd.jupyter.widget-view+json": {
       "model_id": "0876f6d67d354f648ba36f42bee1b420",
       "version_major": 2,
       "version_minor": 0
      },
      "text/plain": [
       "Epoch 5 / 20:   0%|          | 0/3437 [00:00<?, ?it/s]"
      ]
     },
     "metadata": {},
     "output_type": "display_data"
    },
    {
     "name": "stderr",
     "output_type": "stream",
     "text": [
      "--- Train epoch-5, step-20622 ---\n",
      "loss: 0.1803\n",
      "Evaluation: 100%|█████████████████████████████████████████████████████████████| 435/435 [00:07<00:00, 61.54it/s]\n",
      "/home/ram/code/school/dl4h/final/submit/GAMENet/pyhealth/.v2/lib/python3.8/site-packages/sklearn/metrics/_classification.py:1344: UndefinedMetricWarning: Precision is ill-defined and being set to 0.0 in samples with no predicted labels. Use `zero_division` parameter to control this behavior.\n",
      "  _warn_prf(average, modifier, msg_start, len(result))\n",
      "--- Eval epoch-5, step-20622 ---\n",
      "jaccard_samples: 0.4162\n",
      "accuracy: 0.0010\n",
      "hamming_loss: 0.0757\n",
      "precision_samples: 0.7338\n",
      "recall_samples: 0.5094\n",
      "pr_auc_samples: 0.7153\n",
      "f1_samples: 0.5696\n",
      "loss: 0.1865\n",
      "\n"
     ]
    },
    {
     "data": {
      "application/vnd.jupyter.widget-view+json": {
       "model_id": "e24b25d02bfe42209d729a2f4251b970",
       "version_major": 2,
       "version_minor": 0
      },
      "text/plain": [
       "Epoch 6 / 20:   0%|          | 0/3437 [00:00<?, ?it/s]"
      ]
     },
     "metadata": {},
     "output_type": "display_data"
    },
    {
     "name": "stderr",
     "output_type": "stream",
     "text": [
      "--- Train epoch-6, step-24059 ---\n",
      "loss: 0.1791\n",
      "Evaluation: 100%|█████████████████████████████████████████████████████████████| 435/435 [00:07<00:00, 61.66it/s]\n",
      "--- Eval epoch-6, step-24059 ---\n",
      "jaccard_samples: 0.4144\n",
      "accuracy: 0.0011\n",
      "hamming_loss: 0.0755\n",
      "precision_samples: 0.7406\n",
      "recall_samples: 0.5036\n",
      "pr_auc_samples: 0.7167\n",
      "f1_samples: 0.5677\n",
      "loss: 0.1859\n",
      "\n"
     ]
    },
    {
     "data": {
      "application/vnd.jupyter.widget-view+json": {
       "model_id": "a9278c1de6ef458889f7c7f272d23c77",
       "version_major": 2,
       "version_minor": 0
      },
      "text/plain": [
       "Epoch 7 / 20:   0%|          | 0/3437 [00:00<?, ?it/s]"
      ]
     },
     "metadata": {},
     "output_type": "display_data"
    },
    {
     "name": "stderr",
     "output_type": "stream",
     "text": [
      "--- Train epoch-7, step-27496 ---\n",
      "loss: 0.1779\n",
      "Evaluation: 100%|█████████████████████████████████████████████████████████████| 435/435 [00:07<00:00, 62.06it/s]\n",
      "--- Eval epoch-7, step-27496 ---\n",
      "jaccard_samples: 0.4066\n",
      "accuracy: 0.0010\n",
      "hamming_loss: 0.0755\n",
      "precision_samples: 0.7554\n",
      "recall_samples: 0.4848\n",
      "pr_auc_samples: 0.7189\n",
      "f1_samples: 0.5591\n",
      "loss: 0.1858\n",
      "\n"
     ]
    },
    {
     "data": {
      "application/vnd.jupyter.widget-view+json": {
       "model_id": "9b98be98e1fe4b5db53f578f6f766984",
       "version_major": 2,
       "version_minor": 0
      },
      "text/plain": [
       "Epoch 8 / 20:   0%|          | 0/3437 [00:00<?, ?it/s]"
      ]
     },
     "metadata": {},
     "output_type": "display_data"
    },
    {
     "name": "stderr",
     "output_type": "stream",
     "text": [
      "--- Train epoch-8, step-30933 ---\n",
      "loss: 0.1768\n",
      "Evaluation: 100%|█████████████████████████████████████████████████████████████| 435/435 [00:07<00:00, 61.58it/s]\n",
      "--- Eval epoch-8, step-30933 ---\n",
      "jaccard_samples: 0.4200\n",
      "accuracy: 0.0013\n",
      "hamming_loss: 0.0758\n",
      "precision_samples: 0.7323\n",
      "recall_samples: 0.5171\n",
      "pr_auc_samples: 0.7197\n",
      "f1_samples: 0.5728\n",
      "loss: 0.1853\n",
      "New best accuracy score (0.0013) at epoch-8, step-30933\n",
      "\n"
     ]
    },
    {
     "data": {
      "application/vnd.jupyter.widget-view+json": {
       "model_id": "698584016f684deb9123c984403f3814",
       "version_major": 2,
       "version_minor": 0
      },
      "text/plain": [
       "Epoch 9 / 20:   0%|          | 0/3437 [00:00<?, ?it/s]"
      ]
     },
     "metadata": {},
     "output_type": "display_data"
    },
    {
     "name": "stderr",
     "output_type": "stream",
     "text": [
      "--- Train epoch-9, step-34370 ---\n",
      "loss: 0.1757\n",
      "Evaluation: 100%|█████████████████████████████████████████████████████████████| 435/435 [00:07<00:00, 61.75it/s]\n",
      "--- Eval epoch-9, step-34370 ---\n",
      "jaccard_samples: 0.4204\n",
      "accuracy: 0.0014\n",
      "hamming_loss: 0.0752\n",
      "precision_samples: 0.7391\n",
      "recall_samples: 0.5123\n",
      "pr_auc_samples: 0.7212\n",
      "f1_samples: 0.5738\n",
      "loss: 0.1850\n",
      "New best accuracy score (0.0014) at epoch-9, step-34370\n",
      "\n"
     ]
    },
    {
     "data": {
      "application/vnd.jupyter.widget-view+json": {
       "model_id": "f58062dd638942e5967b6af310262a36",
       "version_major": 2,
       "version_minor": 0
      },
      "text/plain": [
       "Epoch 10 / 20:   0%|          | 0/3437 [00:00<?, ?it/s]"
      ]
     },
     "metadata": {},
     "output_type": "display_data"
    },
    {
     "name": "stderr",
     "output_type": "stream",
     "text": [
      "--- Train epoch-10, step-37807 ---\n",
      "loss: 0.1746\n",
      "Evaluation: 100%|█████████████████████████████████████████████████████████████| 435/435 [00:07<00:00, 62.08it/s]\n",
      "--- Eval epoch-10, step-37807 ---\n",
      "jaccard_samples: 0.4165\n",
      "accuracy: 0.0014\n",
      "hamming_loss: 0.0750\n",
      "precision_samples: 0.7490\n",
      "recall_samples: 0.5019\n",
      "pr_auc_samples: 0.7226\n",
      "f1_samples: 0.5696\n",
      "loss: 0.1853\n",
      "New best accuracy score (0.0014) at epoch-10, step-37807\n",
      "\n"
     ]
    },
    {
     "data": {
      "application/vnd.jupyter.widget-view+json": {
       "model_id": "6117dec24e014257bbdf48cf062ba147",
       "version_major": 2,
       "version_minor": 0
      },
      "text/plain": [
       "Epoch 11 / 20:   0%|          | 0/3437 [00:00<?, ?it/s]"
      ]
     },
     "metadata": {},
     "output_type": "display_data"
    },
    {
     "name": "stderr",
     "output_type": "stream",
     "text": [
      "--- Train epoch-11, step-41244 ---\n",
      "loss: 0.1734\n",
      "Evaluation: 100%|█████████████████████████████████████████████████████████████| 435/435 [00:07<00:00, 61.76it/s]\n",
      "--- Eval epoch-11, step-41244 ---\n",
      "jaccard_samples: 0.4156\n",
      "accuracy: 0.0014\n",
      "hamming_loss: 0.0752\n",
      "precision_samples: 0.7465\n",
      "recall_samples: 0.5008\n",
      "pr_auc_samples: 0.7218\n",
      "f1_samples: 0.5685\n",
      "loss: 0.1874\n",
      "\n"
     ]
    },
    {
     "data": {
      "application/vnd.jupyter.widget-view+json": {
       "model_id": "d6f02900f2b94d1f8391abcd5608f8d5",
       "version_major": 2,
       "version_minor": 0
      },
      "text/plain": [
       "Epoch 12 / 20:   0%|          | 0/3437 [00:00<?, ?it/s]"
      ]
     },
     "metadata": {},
     "output_type": "display_data"
    },
    {
     "name": "stderr",
     "output_type": "stream",
     "text": [
      "--- Train epoch-12, step-44681 ---\n",
      "loss: 0.1721\n",
      "Evaluation: 100%|█████████████████████████████████████████████████████████████| 435/435 [00:07<00:00, 61.32it/s]\n",
      "--- Eval epoch-12, step-44681 ---\n",
      "jaccard_samples: 0.4217\n",
      "accuracy: 0.0017\n",
      "hamming_loss: 0.0755\n",
      "precision_samples: 0.7355\n",
      "recall_samples: 0.5164\n",
      "pr_auc_samples: 0.7218\n",
      "f1_samples: 0.5744\n",
      "loss: 0.1865\n",
      "New best accuracy score (0.0017) at epoch-12, step-44681\n",
      "\n"
     ]
    },
    {
     "data": {
      "application/vnd.jupyter.widget-view+json": {
       "model_id": "a08cb0c440244841978434a39de866ea",
       "version_major": 2,
       "version_minor": 0
      },
      "text/plain": [
       "Epoch 13 / 20:   0%|          | 0/3437 [00:00<?, ?it/s]"
      ]
     },
     "metadata": {},
     "output_type": "display_data"
    },
    {
     "name": "stderr",
     "output_type": "stream",
     "text": [
      "--- Train epoch-13, step-48118 ---\n",
      "loss: 0.1709\n",
      "Evaluation: 100%|█████████████████████████████████████████████████████████████| 435/435 [00:07<00:00, 61.46it/s]\n",
      "--- Eval epoch-13, step-48118 ---\n",
      "jaccard_samples: 0.4187\n",
      "accuracy: 0.0011\n",
      "hamming_loss: 0.0754\n",
      "precision_samples: 0.7426\n",
      "recall_samples: 0.5077\n",
      "pr_auc_samples: 0.7219\n",
      "f1_samples: 0.5722\n",
      "loss: 0.1867\n",
      "\n"
     ]
    },
    {
     "data": {
      "application/vnd.jupyter.widget-view+json": {
       "model_id": "b71c0f046f3b426285ba8c8e74603d04",
       "version_major": 2,
       "version_minor": 0
      },
      "text/plain": [
       "Epoch 14 / 20:   0%|          | 0/3437 [00:00<?, ?it/s]"
      ]
     },
     "metadata": {},
     "output_type": "display_data"
    },
    {
     "name": "stderr",
     "output_type": "stream",
     "text": [
      "--- Train epoch-14, step-51555 ---\n",
      "loss: 0.1695\n",
      "Evaluation: 100%|█████████████████████████████████████████████████████████████| 435/435 [00:07<00:00, 61.80it/s]\n",
      "/home/ram/code/school/dl4h/final/submit/GAMENet/pyhealth/.v2/lib/python3.8/site-packages/sklearn/metrics/_classification.py:1344: UndefinedMetricWarning: Precision is ill-defined and being set to 0.0 in samples with no predicted labels. Use `zero_division` parameter to control this behavior.\n",
      "  _warn_prf(average, modifier, msg_start, len(result))\n",
      "--- Eval epoch-14, step-51555 ---\n",
      "jaccard_samples: 0.4216\n",
      "accuracy: 0.0011\n",
      "hamming_loss: 0.0754\n",
      "precision_samples: 0.7392\n",
      "recall_samples: 0.5136\n",
      "pr_auc_samples: 0.7219\n",
      "f1_samples: 0.5748\n",
      "loss: 0.1882\n",
      "\n"
     ]
    },
    {
     "data": {
      "application/vnd.jupyter.widget-view+json": {
       "model_id": "c5c49ce162b44b9d812bb8da80d2bec3",
       "version_major": 2,
       "version_minor": 0
      },
      "text/plain": [
       "Epoch 15 / 20:   0%|          | 0/3437 [00:00<?, ?it/s]"
      ]
     },
     "metadata": {},
     "output_type": "display_data"
    },
    {
     "name": "stderr",
     "output_type": "stream",
     "text": [
      "--- Train epoch-15, step-54992 ---\n",
      "loss: 0.1679\n",
      "Evaluation: 100%|█████████████████████████████████████████████████████████████| 435/435 [00:07<00:00, 62.07it/s]\n",
      "--- Eval epoch-15, step-54992 ---\n",
      "jaccard_samples: 0.4236\n",
      "accuracy: 0.0008\n",
      "hamming_loss: 0.0766\n",
      "precision_samples: 0.7267\n",
      "recall_samples: 0.5255\n",
      "pr_auc_samples: 0.7197\n",
      "f1_samples: 0.5764\n",
      "loss: 0.1886\n",
      "\n"
     ]
    },
    {
     "data": {
      "application/vnd.jupyter.widget-view+json": {
       "model_id": "d2199f9ccaed461db4d1f463db638934",
       "version_major": 2,
       "version_minor": 0
      },
      "text/plain": [
       "Epoch 16 / 20:   0%|          | 0/3437 [00:00<?, ?it/s]"
      ]
     },
     "metadata": {},
     "output_type": "display_data"
    },
    {
     "name": "stderr",
     "output_type": "stream",
     "text": [
      "--- Train epoch-16, step-58429 ---\n",
      "loss: 0.1663\n",
      "Evaluation: 100%|█████████████████████████████████████████████████████████████| 435/435 [00:07<00:00, 61.98it/s]\n",
      "--- Eval epoch-16, step-58429 ---\n",
      "jaccard_samples: 0.4231\n",
      "accuracy: 0.0016\n",
      "hamming_loss: 0.0765\n",
      "precision_samples: 0.7297\n",
      "recall_samples: 0.5230\n",
      "pr_auc_samples: 0.7203\n",
      "f1_samples: 0.5754\n",
      "loss: 0.1897\n",
      "\n"
     ]
    },
    {
     "data": {
      "application/vnd.jupyter.widget-view+json": {
       "model_id": "35ff6abc809e4659ae47f3f738b22b38",
       "version_major": 2,
       "version_minor": 0
      },
      "text/plain": [
       "Epoch 17 / 20:   0%|          | 0/3437 [00:00<?, ?it/s]"
      ]
     },
     "metadata": {},
     "output_type": "display_data"
    },
    {
     "name": "stderr",
     "output_type": "stream",
     "text": [
      "--- Train epoch-17, step-61866 ---\n",
      "loss: 0.1647\n",
      "Evaluation: 100%|█████████████████████████████████████████████████████████████| 435/435 [00:07<00:00, 61.61it/s]\n",
      "--- Eval epoch-17, step-61866 ---\n",
      "jaccard_samples: 0.4173\n",
      "accuracy: 0.0011\n",
      "hamming_loss: 0.0774\n",
      "precision_samples: 0.7345\n",
      "recall_samples: 0.5137\n",
      "pr_auc_samples: 0.7184\n",
      "f1_samples: 0.5691\n",
      "loss: 0.1912\n",
      "\n"
     ]
    },
    {
     "data": {
      "application/vnd.jupyter.widget-view+json": {
       "model_id": "16901ace389f4f348379381cc0a9446c",
       "version_major": 2,
       "version_minor": 0
      },
      "text/plain": [
       "Epoch 18 / 20:   0%|          | 0/3437 [00:00<?, ?it/s]"
      ]
     },
     "metadata": {},
     "output_type": "display_data"
    },
    {
     "name": "stderr",
     "output_type": "stream",
     "text": [
      "--- Train epoch-18, step-65303 ---\n",
      "loss: 0.1634\n",
      "Evaluation: 100%|█████████████████████████████████████████████████████████████| 435/435 [00:06<00:00, 62.66it/s]\n",
      "/home/ram/code/school/dl4h/final/submit/GAMENet/pyhealth/.v2/lib/python3.8/site-packages/sklearn/metrics/_classification.py:1344: UndefinedMetricWarning: Precision is ill-defined and being set to 0.0 in samples with no predicted labels. Use `zero_division` parameter to control this behavior.\n",
      "  _warn_prf(average, modifier, msg_start, len(result))\n",
      "--- Eval epoch-18, step-65303 ---\n",
      "jaccard_samples: 0.4116\n",
      "accuracy: 0.0008\n",
      "hamming_loss: 0.0768\n",
      "precision_samples: 0.7472\n",
      "recall_samples: 0.4981\n",
      "pr_auc_samples: 0.7196\n",
      "f1_samples: 0.5634\n",
      "loss: 0.1918\n",
      "\n"
     ]
    },
    {
     "data": {
      "application/vnd.jupyter.widget-view+json": {
       "model_id": "e1068fb275ca4bc18dddd5ee6a67cf82",
       "version_major": 2,
       "version_minor": 0
      },
      "text/plain": [
       "Epoch 19 / 20:   0%|          | 0/3437 [00:00<?, ?it/s]"
      ]
     },
     "metadata": {},
     "output_type": "display_data"
    },
    {
     "name": "stderr",
     "output_type": "stream",
     "text": [
      "--- Train epoch-19, step-68740 ---\n",
      "loss: 0.1623\n",
      "Evaluation: 100%|█████████████████████████████████████████████████████████████| 435/435 [00:07<00:00, 61.64it/s]\n",
      "--- Eval epoch-19, step-68740 ---\n",
      "jaccard_samples: 0.4150\n",
      "accuracy: 0.0011\n",
      "hamming_loss: 0.0779\n",
      "precision_samples: 0.7374\n",
      "recall_samples: 0.5089\n",
      "pr_auc_samples: 0.7167\n",
      "f1_samples: 0.5664\n",
      "loss: 0.1935\n",
      "Loaded best model\n"
     ]
    }
   ],
   "source": [
    "# baseline\n",
    "print(\"---RETAIN TRAINING---\")\n",
    "for taskname,dataloader in dataloaders.items():\n",
    "    print(\"--training retain on {} data--\".format(taskname))\n",
    "    # create and train retain model\n",
    "    retain[taskname] = ModelWrapper(\n",
    "        drug_task_data[taskname],\n",
    "        model=MODEL_TYPES_PER_TASK[taskname][RT_KEY],\n",
    "        feature_keys=RETAIN_FEATS_PER_TASK[taskname],\n",
    "        experiment=\"{}_task_{}\".format(RETAIN_EXP, taskname)\n",
    "    )\n",
    "    retain[taskname].train_model(\n",
    "        dataloader[\"train\"], dataloader[\"val\"],\n",
    "        decay_weight=DECAY_WEIGHT,\n",
    "        learning_rate=LR,\n",
    "        epochs=EPOCHS\n",
    "    )\n",
    "\n",
    "# gamenet\n",
    "print(\"---GAMENET TRAINING---\")\n",
    "for taskname,dataloader in dataloaders.items():\n",
    "    print(\"--training gamenet on {} data--\".format(taskname))\n",
    "    # create and train gamenet model\n",
    "    gamenet[taskname] = ModelWrapper(\n",
    "        drug_task_data[taskname],\n",
    "        model=MODEL_TYPES_PER_TASK[taskname][GN_KEY],\n",
    "        experiment=\"{}_task_{}\".format(GAMENET_EXP, taskname)\n",
    "    )\n",
    "    gamenet[taskname].train_model(\n",
    "        dataloader[\"train\"], dataloader[\"val\"],\n",
    "        decay_weight = DECAY_WEIGHT,\n",
    "        learning_rate = LR,\n",
    "        epochs=EPOCHS\n",
    "    )"
   ]
  },
  {
   "cell_type": "markdown",
   "id": "6b7a72be",
   "metadata": {},
   "source": [
    "## Evaluate the Models"
   ]
  },
  {
   "cell_type": "code",
   "execution_count": 9,
   "id": "bc5fae88",
   "metadata": {},
   "outputs": [],
   "source": [
    "baseline_result = {}\n",
    "gamenet_result = {}"
   ]
  },
  {
   "cell_type": "code",
   "execution_count": 10,
   "id": "b759acb5",
   "metadata": {},
   "outputs": [
    {
     "name": "stdout",
     "output_type": "stream",
     "text": [
      "---RETAIN EVALUATION---\n",
      "--eval retain on drug_recommendation data--\n"
     ]
    },
    {
     "name": "stderr",
     "output_type": "stream",
     "text": [
      "Evaluation: 100%|█████████████████████████████████████████████████████████████| 230/230 [00:04<00:00, 52.35it/s]\n"
     ]
    },
    {
     "name": "stdout",
     "output_type": "stream",
     "text": [
      "{'jaccard_samples': 0.4540459546771232, 'accuracy': 0.0020420665713702267, 'hamming_loss': 0.07847287454904363, 'precision_samples': 0.7578135655729245, 'recall_samples': 0.5464850884204991, 'pr_auc_samples': 0.7534060235322836, 'f1_samples': 0.6047574833671272, 'loss': 0.18982936526122302}\n"
     ]
    },
    {
     "name": "stderr",
     "output_type": "stream",
     "text": [
      "Evaluation: 100%|█████████████████████████████████████████████████████████████| 230/230 [00:03<00:00, 57.90it/s]\n",
      "Evaluation: 100%|█████████████████████████████████████████████████████████████| 230/230 [00:03<00:00, 57.66it/s]\n"
     ]
    },
    {
     "name": "stdout",
     "output_type": "stream",
     "text": [
      "--eval retain on no_hist data--\n"
     ]
    },
    {
     "name": "stderr",
     "output_type": "stream",
     "text": [
      "Evaluation: 100%|████████████████████████████████████████████████████████████| 233/233 [00:02<00:00, 103.44it/s]\n"
     ]
    },
    {
     "name": "stdout",
     "output_type": "stream",
     "text": [
      "{'jaccard_samples': 0.4382674911377477, 'accuracy': 0.002217443891950007, 'hamming_loss': 0.07837320252654213, 'precision_samples': 0.7756755937000301, 'recall_samples': 0.5130361715564632, 'pr_auc_samples': 0.7474079338817261, 'f1_samples': 0.5902018398301893, 'loss': 0.1914405864963204}\n"
     ]
    },
    {
     "name": "stderr",
     "output_type": "stream",
     "text": [
      "Evaluation: 100%|████████████████████████████████████████████████████████████| 233/233 [00:02<00:00, 107.89it/s]\n",
      "Evaluation: 100%|████████████████████████████████████████████████████████████| 233/233 [00:02<00:00, 111.94it/s]\n"
     ]
    },
    {
     "name": "stdout",
     "output_type": "stream",
     "text": [
      "--eval retain on no_proc data--\n"
     ]
    },
    {
     "name": "stderr",
     "output_type": "stream",
     "text": [
      "Evaluation: 100%|█████████████████████████████████████████████████████████████| 432/432 [00:05<00:00, 78.14it/s]\n"
     ]
    },
    {
     "name": "stdout",
     "output_type": "stream",
     "text": [
      "{'jaccard_samples': 0.3945862331790098, 'accuracy': 0.0008335447396078716, 'hamming_loss': 0.07415591199224406, 'precision_samples': 0.7598288153973151, 'recall_samples': 0.4644770862305861, 'pr_auc_samples': 0.7123848065116613, 'f1_samples': 0.547580627090208, 'loss': 0.18402852725099633}\n"
     ]
    },
    {
     "name": "stderr",
     "output_type": "stream",
     "text": [
      "Evaluation: 100%|█████████████████████████████████████████████████████████████| 432/432 [00:05<00:00, 78.11it/s]\n",
      "Evaluation: 100%|█████████████████████████████████████████████████████████████| 432/432 [00:05<00:00, 84.34it/s]\n"
     ]
    },
    {
     "name": "stdout",
     "output_type": "stream",
     "text": [
      "---GAMENET EVALUATION---\n",
      "--eval gamenet on drug_recommendation data--\n"
     ]
    },
    {
     "name": "stderr",
     "output_type": "stream",
     "text": [
      "Evaluation: 100%|█████████████████████████████████████████████████████████████| 230/230 [00:04<00:00, 54.63it/s]\n"
     ]
    },
    {
     "name": "stdout",
     "output_type": "stream",
     "text": [
      "{'jaccard_samples': 0.4521940582122721, 'accuracy': 0.002246273228507249, 'hamming_loss': 0.08143319038867333, 'precision_samples': 0.720762798456624, 'recall_samples': 0.5670332694952991, 'pr_auc_samples': 0.737870056857211, 'f1_samples': 0.6032621188112071, 'loss': 0.19578040170928707}\n"
     ]
    },
    {
     "name": "stderr",
     "output_type": "stream",
     "text": [
      "Evaluation: 100%|█████████████████████████████████████████████████████████████| 230/230 [00:04<00:00, 53.87it/s]\n",
      "Evaluation: 100%|█████████████████████████████████████████████████████████████| 230/230 [00:04<00:00, 54.14it/s]\n"
     ]
    },
    {
     "name": "stdout",
     "output_type": "stream",
     "text": [
      "--eval gamenet on no_hist data--\n"
     ]
    },
    {
     "name": "stderr",
     "output_type": "stream",
     "text": [
      "Evaluation: 100%|████████████████████████████████████████████████████████████| 233/233 [00:01<00:00, 226.37it/s]\n",
      "/home/ram/code/school/dl4h/final/submit/GAMENet/pyhealth/.v2/lib/python3.8/site-packages/sklearn/metrics/_classification.py:1344: UndefinedMetricWarning: Precision is ill-defined and being set to 0.0 in samples with no predicted labels. Use `zero_division` parameter to control this behavior.\n",
      "  _warn_prf(average, modifier, msg_start, len(result))\n"
     ]
    },
    {
     "name": "stdout",
     "output_type": "stream",
     "text": [
      "{'jaccard_samples': 0.453919083037768, 'accuracy': 0.002217443891950007, 'hamming_loss': 0.08120279532320925, 'precision_samples': 0.7543395806053412, 'recall_samples': 0.5536175023860068, 'pr_auc_samples': 0.7441593145306628, 'f1_samples': 0.6034781299268797, 'loss': 0.22013351334011094}\n"
     ]
    },
    {
     "name": "stderr",
     "output_type": "stream",
     "text": [
      "Evaluation: 100%|████████████████████████████████████████████████████████████| 233/233 [00:01<00:00, 219.46it/s]\n",
      "Evaluation: 100%|████████████████████████████████████████████████████████████| 233/233 [00:01<00:00, 230.37it/s]\n"
     ]
    },
    {
     "name": "stdout",
     "output_type": "stream",
     "text": [
      "--eval gamenet on no_proc data--\n"
     ]
    },
    {
     "name": "stderr",
     "output_type": "stream",
     "text": [
      "Evaluation: 100%|█████████████████████████████████████████████████████████████| 432/432 [00:06<00:00, 62.53it/s]\n"
     ]
    },
    {
     "name": "stdout",
     "output_type": "stream",
     "text": [
      "{'jaccard_samples': 0.4232919544592121, 'accuracy': 0.0013046787228644947, 'hamming_loss': 0.07339358727689425, 'precision_samples': 0.7338074555704448, 'recall_samples': 0.5193401782681243, 'pr_auc_samples': 0.7212806490382262, 'f1_samples': 0.5761553823846068, 'loss': 0.1825957858797025}\n"
     ]
    },
    {
     "name": "stderr",
     "output_type": "stream",
     "text": [
      "Evaluation: 100%|█████████████████████████████████████████████████████████████| 432/432 [00:06<00:00, 62.90it/s]\n",
      "Evaluation: 100%|█████████████████████████████████████████████████████████████| 432/432 [00:06<00:00, 62.44it/s]\n"
     ]
    }
   ],
   "source": [
    "# baseline\n",
    "print(\"---RETAIN EVALUATION---\")\n",
    "for taskname in mimic.get_task_names():\n",
    "    print(\"--eval retain on {} data--\".format(taskname))\n",
    "    test_loader = dataloaders[taskname][\"test\"]\n",
    "    baseline_result[taskname] = {}\n",
    "    baseline_result[taskname][SCORE_KEY] = retain[taskname].evaluate_model(test_loader)\n",
    "    baseline_result[taskname][SCORE_KEY][DPV_KEY] = retain[taskname].calc_avg_drugs_per_visit(test_loader)\n",
    "    baseline_result[taskname][SCORE_KEY][DDI_RATE_KEY] = retain[taskname].calc_ddi_rate(\n",
    "        test_loader, ddi_mats[taskname]\n",
    "    )\n",
    "    \n",
    "# gamenet\n",
    "print(\"---GAMENET EVALUATION---\")\n",
    "for taskname in mimic.get_task_names():\n",
    "    print(\"--eval gamenet on {} data--\".format(taskname))\n",
    "    test_loader = dataloaders[taskname][\"test\"]\n",
    "    gamenet_result[taskname] = {}\n",
    "    gamenet_result[taskname][SCORE_KEY] = gamenet[taskname].evaluate_model(test_loader)\n",
    "    gamenet_result[taskname][SCORE_KEY][DPV_KEY] = gamenet[taskname].calc_avg_drugs_per_visit(test_loader)\n",
    "    gamenet_result[taskname][SCORE_KEY][DDI_RATE_KEY] = gamenet[taskname].calc_ddi_rate(\n",
    "        test_loader, ddi_mats[taskname]\n",
    "    )"
   ]
  },
  {
   "cell_type": "markdown",
   "id": "c0541737",
   "metadata": {},
   "source": [
    "## Display Scores"
   ]
  },
  {
   "cell_type": "code",
   "execution_count": 11,
   "id": "2b3c0994",
   "metadata": {},
   "outputs": [],
   "source": [
    "#results = {RT_KEY: baseline_result, GN_KEY: gamenet_result}\n",
    "#rtoutfile = open(\"./results_gamenet.json\", 'w')\n",
    "#gnoutfile = open(\"./results_retain.json\", 'w')\n",
    "#gnoutfile.write(json.dumps(gamenet_result))\n",
    "#rtoutfile.write(json.dumps(baseline_result))\n",
    "#gnoutfile.close()\n",
    "#rtoutfile.close()"
   ]
  },
  {
   "cell_type": "code",
   "execution_count": 12,
   "id": "d8747bf4",
   "metadata": {},
   "outputs": [
    {
     "data": {
      "text/html": [
       "<div>\n",
       "<style scoped>\n",
       "    .dataframe tbody tr th:only-of-type {\n",
       "        vertical-align: middle;\n",
       "    }\n",
       "\n",
       "    .dataframe tbody tr th {\n",
       "        vertical-align: top;\n",
       "    }\n",
       "\n",
       "    .dataframe thead th {\n",
       "        text-align: right;\n",
       "    }\n",
       "</style>\n",
       "<table border=\"1\" class=\"dataframe\">\n",
       "  <thead>\n",
       "    <tr style=\"text-align: right;\">\n",
       "      <th></th>\n",
       "      <th>scores</th>\n",
       "      <th>avg_dpv</th>\n",
       "      <th>ddi_rate</th>\n",
       "    </tr>\n",
       "  </thead>\n",
       "  <tbody>\n",
       "    <tr>\n",
       "      <th>0</th>\n",
       "      <td>{'jaccard_samples': 0.127961854468781, 'accura...</td>\n",
       "      <td>70.103448</td>\n",
       "      <td>0.043540</td>\n",
       "    </tr>\n",
       "    <tr>\n",
       "      <th>1</th>\n",
       "      <td>{'jaccard_samples': 0.133885752813687, 'accura...</td>\n",
       "      <td>70.791667</td>\n",
       "      <td>0.045327</td>\n",
       "    </tr>\n",
       "    <tr>\n",
       "      <th>2</th>\n",
       "      <td>{'jaccard_samples': 0.11004927634283, 'accurac...</td>\n",
       "      <td>69.697368</td>\n",
       "      <td>0.037088</td>\n",
       "    </tr>\n",
       "  </tbody>\n",
       "</table>\n",
       "</div>"
      ],
      "text/plain": [
       "                                              scores    avg_dpv  ddi_rate\n",
       "0  {'jaccard_samples': 0.127961854468781, 'accura...  70.103448  0.043540\n",
       "1  {'jaccard_samples': 0.133885752813687, 'accura...  70.791667  0.045327\n",
       "2  {'jaccard_samples': 0.11004927634283, 'accurac...  69.697368  0.037088"
      ]
     },
     "metadata": {},
     "output_type": "display_data"
    }
   ],
   "source": [
    "#gn_pd_object = pandas.read_json('./results_gamenet.json', typ='series')\n",
    "#gn_df = pandas.DataFrame.from_records(gn_pd_object)\n",
    "#display(gn_df)"
   ]
  },
  {
   "cell_type": "code",
   "execution_count": 16,
   "id": "c29cdd33",
   "metadata": {},
   "outputs": [],
   "source": [
    "metrics_columns = [\n",
    "    \"accuracy\", \"precision_samples\", \"recall_samples\",\n",
    "    \"pr_auc_samples\", \"f1_samples\",\n",
    "    \"avg_dpv\", \"ddi_rate\"\n",
    "]\n"
   ]
  },
  {
   "cell_type": "code",
   "execution_count": 17,
   "id": "58791a05",
   "metadata": {},
   "outputs": [],
   "source": [
    "retain_res_df = pandas.DataFrame.from_dict({(t,v): baseline_result[t][v] \n",
    "                            for t in baseline_result.keys()\n",
    "                            for v in baseline_result[t].keys()},\n",
    "                           orient='index')\n",
    "retain_metrics = retain_res_df[metrics_columns]\n",
    "\n",
    "\n",
    "#task_ids = []\n",
    "#frames =[]\n",
    "#\n",
    "#for taskname, res in gamenet_result.items():\n",
    "#    print(taskname)\n",
    "#    print(res)\n",
    "#    task_ids.append(taskname)\n",
    "#    frames.append(pandas.DataFrame.from_dict(res, orient=\"index\"))\n",
    "#    \n",
    "#pandas.concat(frames, keys=task_ids)"
   ]
  },
  {
   "cell_type": "code",
   "execution_count": 18,
   "id": "df1e8642",
   "metadata": {},
   "outputs": [],
   "source": [
    "gamenet_res_df = pandas.DataFrame.from_dict({(t,v): gamenet_result[t][v] \n",
    "                            for t in gamenet_result.keys()\n",
    "                            for v in gamenet_result[t].keys()},\n",
    "                           orient='index')\n",
    "gamenet_metrics = gamenet_res_df[metrics_columns]"
   ]
  },
  {
   "cell_type": "code",
   "execution_count": 19,
   "id": "1e599872",
   "metadata": {},
   "outputs": [
    {
     "data": {
      "text/html": [
       "<div>\n",
       "<style scoped>\n",
       "    .dataframe tbody tr th:only-of-type {\n",
       "        vertical-align: middle;\n",
       "    }\n",
       "\n",
       "    .dataframe tbody tr th {\n",
       "        vertical-align: top;\n",
       "    }\n",
       "\n",
       "    .dataframe thead th {\n",
       "        text-align: right;\n",
       "    }\n",
       "</style>\n",
       "<table border=\"1\" class=\"dataframe\">\n",
       "  <thead>\n",
       "    <tr style=\"text-align: right;\">\n",
       "      <th></th>\n",
       "      <th></th>\n",
       "      <th>accuracy</th>\n",
       "      <th>precision_samples</th>\n",
       "      <th>recall_samples</th>\n",
       "      <th>pr_auc_samples</th>\n",
       "      <th>f1_samples</th>\n",
       "      <th>avg_dpv</th>\n",
       "      <th>ddi_rate</th>\n",
       "    </tr>\n",
       "  </thead>\n",
       "  <tbody>\n",
       "    <tr>\n",
       "      <th>drug_recommendation</th>\n",
       "      <th>scores</th>\n",
       "      <td>0.002042</td>\n",
       "      <td>0.757814</td>\n",
       "      <td>0.546485</td>\n",
       "      <td>0.753406</td>\n",
       "      <td>0.604757</td>\n",
       "      <td>16.496835</td>\n",
       "      <td>0.062308</td>\n",
       "    </tr>\n",
       "    <tr>\n",
       "      <th>no_hist</th>\n",
       "      <th>scores</th>\n",
       "      <td>0.002217</td>\n",
       "      <td>0.775676</td>\n",
       "      <td>0.513036</td>\n",
       "      <td>0.747408</td>\n",
       "      <td>0.590202</td>\n",
       "      <td>14.570555</td>\n",
       "      <td>0.066517</td>\n",
       "    </tr>\n",
       "    <tr>\n",
       "      <th>no_proc</th>\n",
       "      <th>scores</th>\n",
       "      <td>0.000834</td>\n",
       "      <td>0.759829</td>\n",
       "      <td>0.464477</td>\n",
       "      <td>0.712385</td>\n",
       "      <td>0.547581</td>\n",
       "      <td>11.440510</td>\n",
       "      <td>0.085610</td>\n",
       "    </tr>\n",
       "  </tbody>\n",
       "</table>\n",
       "</div>"
      ],
      "text/plain": [
       "                            accuracy  precision_samples  recall_samples   \n",
       "drug_recommendation scores  0.002042           0.757814        0.546485  \\\n",
       "no_hist             scores  0.002217           0.775676        0.513036   \n",
       "no_proc             scores  0.000834           0.759829        0.464477   \n",
       "\n",
       "                            pr_auc_samples  f1_samples    avg_dpv  ddi_rate  \n",
       "drug_recommendation scores        0.753406    0.604757  16.496835  0.062308  \n",
       "no_hist             scores        0.747408    0.590202  14.570555  0.066517  \n",
       "no_proc             scores        0.712385    0.547581  11.440510  0.085610  "
      ]
     },
     "metadata": {},
     "output_type": "display_data"
    }
   ],
   "source": [
    "display(retain_metrics)"
   ]
  },
  {
   "cell_type": "code",
   "execution_count": 20,
   "id": "e6fe540f",
   "metadata": {},
   "outputs": [
    {
     "data": {
      "text/html": [
       "<div>\n",
       "<style scoped>\n",
       "    .dataframe tbody tr th:only-of-type {\n",
       "        vertical-align: middle;\n",
       "    }\n",
       "\n",
       "    .dataframe tbody tr th {\n",
       "        vertical-align: top;\n",
       "    }\n",
       "\n",
       "    .dataframe thead th {\n",
       "        text-align: right;\n",
       "    }\n",
       "</style>\n",
       "<table border=\"1\" class=\"dataframe\">\n",
       "  <thead>\n",
       "    <tr style=\"text-align: right;\">\n",
       "      <th></th>\n",
       "      <th></th>\n",
       "      <th>accuracy</th>\n",
       "      <th>precision_samples</th>\n",
       "      <th>recall_samples</th>\n",
       "      <th>pr_auc_samples</th>\n",
       "      <th>f1_samples</th>\n",
       "      <th>avg_dpv</th>\n",
       "      <th>ddi_rate</th>\n",
       "    </tr>\n",
       "  </thead>\n",
       "  <tbody>\n",
       "    <tr>\n",
       "      <th>drug_recommendation</th>\n",
       "      <th>scores</th>\n",
       "      <td>0.002246</td>\n",
       "      <td>0.720763</td>\n",
       "      <td>0.567033</td>\n",
       "      <td>0.737870</td>\n",
       "      <td>0.603262</td>\n",
       "      <td>18.253829</td>\n",
       "      <td>0.060669</td>\n",
       "    </tr>\n",
       "    <tr>\n",
       "      <th>no_hist</th>\n",
       "      <th>scores</th>\n",
       "      <td>0.002217</td>\n",
       "      <td>0.754340</td>\n",
       "      <td>0.553618</td>\n",
       "      <td>0.744159</td>\n",
       "      <td>0.603478</td>\n",
       "      <td>17.461967</td>\n",
       "      <td>0.060690</td>\n",
       "    </tr>\n",
       "    <tr>\n",
       "      <th>no_proc</th>\n",
       "      <th>scores</th>\n",
       "      <td>0.001305</td>\n",
       "      <td>0.733807</td>\n",
       "      <td>0.519340</td>\n",
       "      <td>0.721281</td>\n",
       "      <td>0.576155</td>\n",
       "      <td>13.977458</td>\n",
       "      <td>0.072855</td>\n",
       "    </tr>\n",
       "  </tbody>\n",
       "</table>\n",
       "</div>"
      ],
      "text/plain": [
       "                            accuracy  precision_samples  recall_samples   \n",
       "drug_recommendation scores  0.002246           0.720763        0.567033  \\\n",
       "no_hist             scores  0.002217           0.754340        0.553618   \n",
       "no_proc             scores  0.001305           0.733807        0.519340   \n",
       "\n",
       "                            pr_auc_samples  f1_samples    avg_dpv  ddi_rate  \n",
       "drug_recommendation scores        0.737870    0.603262  18.253829  0.060669  \n",
       "no_hist             scores        0.744159    0.603478  17.461967  0.060690  \n",
       "no_proc             scores        0.721281    0.576155  13.977458  0.072855  "
      ]
     },
     "metadata": {},
     "output_type": "display_data"
    }
   ],
   "source": [
    "display(gamenet_metrics)"
   ]
  },
  {
   "cell_type": "code",
   "execution_count": 21,
   "id": "8f99160a",
   "metadata": {},
   "outputs": [
    {
     "data": {
      "text/plain": [
       "'\\\\begin{tabular}{llrrrrrrr}\\n\\\\toprule\\n &  & accuracy & precision_samples & recall_samples & pr_auc_samples & f1_samples & avg_dpv & ddi_rate \\\\\\\\\\n\\\\midrule\\ndrug_recommendation & scores & 0.002042 & 0.757814 & 0.546485 & 0.753406 & 0.604757 & 16.496835 & 0.062308 \\\\\\\\\\n\\\\cline{1-9}\\nno_hist & scores & 0.002217 & 0.775676 & 0.513036 & 0.747408 & 0.590202 & 14.570555 & 0.066517 \\\\\\\\\\n\\\\cline{1-9}\\nno_proc & scores & 0.000834 & 0.759829 & 0.464477 & 0.712385 & 0.547581 & 11.440510 & 0.085610 \\\\\\\\\\n\\\\cline{1-9}\\n\\\\bottomrule\\n\\\\end{tabular}\\n'"
      ]
     },
     "execution_count": 21,
     "metadata": {},
     "output_type": "execute_result"
    }
   ],
   "source": [
    "retain_metrics.to_latex()"
   ]
  },
  {
   "cell_type": "code",
   "execution_count": 22,
   "id": "2fbac725",
   "metadata": {},
   "outputs": [
    {
     "data": {
      "text/plain": [
       "'\\\\begin{tabular}{llrrrrrrr}\\n\\\\toprule\\n &  & accuracy & precision_samples & recall_samples & pr_auc_samples & f1_samples & avg_dpv & ddi_rate \\\\\\\\\\n\\\\midrule\\ndrug_recommendation & scores & 0.002246 & 0.720763 & 0.567033 & 0.737870 & 0.603262 & 18.253829 & 0.060669 \\\\\\\\\\n\\\\cline{1-9}\\nno_hist & scores & 0.002217 & 0.754340 & 0.553618 & 0.744159 & 0.603478 & 17.461967 & 0.060690 \\\\\\\\\\n\\\\cline{1-9}\\nno_proc & scores & 0.001305 & 0.733807 & 0.519340 & 0.721281 & 0.576155 & 13.977458 & 0.072855 \\\\\\\\\\n\\\\cline{1-9}\\n\\\\bottomrule\\n\\\\end{tabular}\\n'"
      ]
     },
     "execution_count": 22,
     "metadata": {},
     "output_type": "execute_result"
    }
   ],
   "source": [
    "gamenet_metrics.to_latex()"
   ]
  }
 ],
 "metadata": {
  "kernelspec": {
   "display_name": "Python 3 (ipykernel)",
   "language": "python",
   "name": "python3"
  },
  "language_info": {
   "codemirror_mode": {
    "name": "ipython",
    "version": 3
   },
   "file_extension": ".py",
   "mimetype": "text/x-python",
   "name": "python",
   "nbconvert_exporter": "python",
   "pygments_lexer": "ipython3",
   "version": "3.8.16"
  }
 },
 "nbformat": 4,
 "nbformat_minor": 5
}
